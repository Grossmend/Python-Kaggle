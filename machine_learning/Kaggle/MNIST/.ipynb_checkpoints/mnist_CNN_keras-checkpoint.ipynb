{
 "cells": [
  {
   "cell_type": "code",
   "execution_count": 1,
   "metadata": {},
   "outputs": [
    {
     "name": "stderr",
     "output_type": "stream",
     "text": [
      "Using TensorFlow backend.\n"
     ]
    }
   ],
   "source": [
    "import pandas as pd\n",
    "import numpy as np\n",
    "import matplotlib.pyplot as plt\n",
    "\n",
    "from keras import layers \n",
    "from keras import models\n",
    "from keras.utils import to_categorical\n",
    "\n",
    "from sklearn.utils import shuffle\n",
    "from sklearn.metrics import classification_report\n",
    "from sklearn.model_selection import train_test_split\n",
    "\n",
    "from skimage import img_as_ubyte\n",
    "from skimage.transform import resize\n",
    "\n",
    "from scipy.ndimage.interpolation import rotate"
   ]
  },
  {
   "cell_type": "markdown",
   "metadata": {},
   "source": [
    "## <b><font color='3C89F9'>Data load</font></b>"
   ]
  },
  {
   "cell_type": "code",
   "execution_count": 4,
   "metadata": {},
   "outputs": [],
   "source": [
    "# train data\n",
    "train_data = pd.read_csv('/kaggle/input/train.csv')\n",
    "\n",
    "# test data\n",
    "test_data = pd.read_csv('/kaggle/input/test.csv')"
   ]
  },
  {
   "cell_type": "code",
   "execution_count": 7,
   "metadata": {},
   "outputs": [
    {
     "name": "stdout",
     "output_type": "stream",
     "text": [
      "size train data: (42000, 785)\n",
      "size test data: (28000, 784)\n"
     ]
    }
   ],
   "source": [
    "print('size train data:', train_data.shape)\n",
    "print('size test data:', test_data.shape)"
   ]
  },
  {
   "cell_type": "markdown",
   "metadata": {},
   "source": [
    "## <b><font color='3C89F9'>Data preparation</font></b>"
   ]
  },
  {
   "cell_type": "code",
   "execution_count": 5,
   "metadata": {},
   "outputs": [
    {
     "name": "stdout",
     "output_type": "stream",
     "text": [
      "size train data: (42000, 784)\n",
      "size train labels: (42000,)\n",
      "size finish test data: (28000, 784)\n"
     ]
    }
   ],
   "source": [
    "# split dataset train data and test data for ML\n",
    "\n",
    "X_model = train_data.drop('label', axis=1)\n",
    "y_model = train_data['label'].copy()\n",
    "\n",
    "Y_finish = test_data\n",
    "\n",
    "print('size train data:', X_model.shape)\n",
    "print('size train labels:', y_model.shape)\n",
    "print('size finish test data:', Y_finish.shape)"
   ]
  },
  {
   "cell_type": "code",
   "execution_count": 6,
   "metadata": {},
   "outputs": [
    {
     "data": {
      "image/png": "[encoded data removed]",
      "text/plain": [
       "<Figure size 792x288 with 1 Axes>"
      ]
     },
     "metadata": {
      "needs_background": "light"
     },
     "output_type": "display_data"
    }
   ],
   "source": [
    "# frequency occurrence train labels\n",
    "plt.subplots(figsize=(11,4))\n",
    "y_model.value_counts().sort_index().plot('bar', color='grey')\n",
    "plt.title(\"Frequency Histogram of Numbers in Training Data\")\n",
    "plt.xlabel(\"Number Value\")\n",
    "plt.ylabel(\"Frequency\")\n",
    "plt.grid(True, alpha=0.6)"
   ]
  },
  {
   "cell_type": "code",
   "execution_count": 5,
   "metadata": {},
   "outputs": [],
   "source": [
    "# functions add modify train data\n",
    "\n",
    "def img_rotate(df_x, angle):\n",
    "    \"\"\" function rotate image by angle \"\"\"\n",
    "    change_img = np.empty([df_x.shape[0], df_x.shape[1]])\n",
    "    for i, image in enumerate(df_x.values):\n",
    "        img = rotate(image.reshape(28, 28), angle, cval=0, reshape=False, order=0)\n",
    "        change_img[i] = img.ravel()\n",
    "    return pd.DataFrame(data=change_img, columns=df_x.columns)\n",
    "\n",
    "def img_zoom(df_x, scale):\n",
    "    \"\"\" function zoom image by scale \"\"\"\n",
    "    if (scale > 0.9) or (scale < -0.9):\n",
    "        raise Exception('scale values must be between -0.9 and 0.9')\n",
    "    if scale < 0:\n",
    "        change_img = np.empty([df_x.shape[0], df_x.shape[1]])\n",
    "        for i, image in enumerate(df_x.values):\n",
    "            number_around = round(28*abs(scale)/2)\n",
    "            img = image.reshape(28, 28).astype('float32').copy()\n",
    "            img = np.pad(img, number_around, mode='constant') \n",
    "            img = resize(img, (28,28), anti_aliasing=False, mode='constant', cval=0, order=0)\n",
    "            change_img[i] = img.ravel().astype('int64')\n",
    "        return pd.DataFrame(data=change_img, columns=df_x.columns)\n",
    "    elif scale >= 0:\n",
    "        change_img = np.empty([df_x.shape[0], df_x.shape[1]])\n",
    "        for i, image in enumerate(df_x.values):\n",
    "            number_slice = round(28*abs(scale)/2)\n",
    "            img = image.reshape(28, 28).astype('float32').copy()\n",
    "            img = img[number_slice:28-number_slice, number_slice:28-number_slice]\n",
    "            img = resize(img, (28,28), anti_aliasing=False, mode='constant', cval=0, order=0)\n",
    "            change_img[i] = img.ravel().astype('int64')\n",
    "        return pd.DataFrame(data=change_img, columns=df_x.columns)   \n"
   ]
  },
  {
   "cell_type": "code",
   "execution_count": 6,
   "metadata": {},
   "outputs": [],
   "source": [
    "# split data train and test and convert to Keras model\n",
    "X_train, X_test, y_train, y_test = train_test_split(X_model, y_model, test_size=0.2)"
   ]
  },
  {
   "cell_type": "code",
   "execution_count": 7,
   "metadata": {},
   "outputs": [],
   "source": [
    "# add modified images training\n",
    "X_train_add = X_train.append(img_zoom(X_train, 0.17))\n",
    "X_train_add = X_train_add.append(img_zoom(X_train, -0.2))\n",
    "\n",
    "X_train_add = X_train_add.append(img_rotate(X_train, 10))\n",
    "X_train_add = X_train_add.append(img_rotate(X_train, -10))\n",
    "\n",
    "# add modified images labels\n",
    "y_train_add = y_train.append(y_train)\n",
    "y_train_add = y_train_add.append(y_train)\n",
    "\n",
    "y_train_add = y_train_add.append(y_train)\n",
    "y_train_add = y_train_add.append(y_train)\n",
    "\n",
    "# set train and test with add images\n",
    "X_train = X_train_add.copy()\n",
    "y_train = y_train_add.copy()\n",
    "\n",
    "# shuffle full training data\n",
    "X_train, y_train = shuffle(X_train, y_train)"
   ]
  },
  {
   "cell_type": "code",
   "execution_count": 8,
   "metadata": {},
   "outputs": [],
   "source": [
    "# convert train data to Keras model\n",
    "X_train = X_train.values.reshape(X_train.shape[0], 28, 28 ,1)\n",
    "X_train = X_train.astype('float32') / 255\n",
    "\n",
    "X_test = X_test.values.reshape(X_test.shape[0], 28, 28, 1)\n",
    "X_test = X_test.astype('float32') / 255\n",
    "\n",
    "Y_finish = Y_finish.values.reshape(Y_finish.shape[0], 28, 28 ,1)\n",
    "Y_finish = Y_finish.astype('float32') / 255"
   ]
  },
  {
   "cell_type": "code",
   "execution_count": 9,
   "metadata": {},
   "outputs": [],
   "source": [
    "# # show few images\n",
    "# plt.figure(figsize=(18,8))\n",
    "# for i in range(75):  \n",
    "#     plt.subplot(5, 15, i+1)\n",
    "#     plt.imshow(X_train[i].reshape((28,28)),cmap=plt.cm.binary)\n",
    "#     plt.axis('off')\n",
    "# plt.subplots_adjust(wspace=-0.1, hspace=-0.1)\n",
    "# plt.show()"
   ]
  },
  {
   "cell_type": "markdown",
   "metadata": {},
   "source": [
    "## <b><font color='3C89F9'>Deep Learning</font></b></font> by Keras</b>"
   ]
  },
  {
   "cell_type": "code",
   "execution_count": 9,
   "metadata": {},
   "outputs": [],
   "source": [
    "# function build model Keras\n",
    "def build_model():\n",
    "    # add dropout between layers\n",
    "    model = models.Sequential()\n",
    "    model.add(layers.Conv2D(32, (3,3), activation='relu', input_shape=(28,28,1)))\n",
    "    model.add(layers.MaxPooling2D((2,2)))\n",
    "    model.add(layers.Conv2D(64, (3,3), activation='relu'))\n",
    "    model.add(layers.MaxPooling2D((2,2)))\n",
    "    model.add(layers.Conv2D(64,(3,3), activation='relu'))\n",
    "    model.add(layers.Flatten())\n",
    "    model.add(layers.Dense(64, activation='relu'))\n",
    "    model.add(layers.Dense(10, activation='softmax'))\n",
    "    opt = optimizers.Adam(lr=0.0015, beta_1=0.9, beta_2=0.99, epsilon=None, decay=0.0, amsgrad=False)\n",
    "    model.compile(optimizer=opt, loss='binary_crossentropy', metrics=['accuracy'])\n",
    "    return model"
   ]
  },
  {
   "cell_type": "code",
   "execution_count": 10,
   "metadata": {},
   "outputs": [
    {
     "name": "stdout",
     "output_type": "stream",
     "text": [
      "WARNING:tensorflow:From c:\\grossmend\\nbp\\python\\pythonup64\\upvenv\\lib\\site-packages\\tensorflow\\python\\framework\\op_def_library.py:263: colocate_with (from tensorflow.python.framework.ops) is deprecated and will be removed in a future version.\n",
      "Instructions for updating:\n",
      "Colocations handled automatically by placer.\n",
      "WARNING:tensorflow:From c:\\grossmend\\nbp\\python\\pythonup64\\upvenv\\lib\\site-packages\\tensorflow\\python\\ops\\math_ops.py:3066: to_int32 (from tensorflow.python.ops.math_ops) is deprecated and will be removed in a future version.\n",
      "Instructions for updating:\n",
      "Use tf.cast instead.\n",
      "Epoch 1/1\n",
      "168000/168000 [==============================] - 122s 726us/step - loss: 0.1122 - acc: 0.9645\n"
     ]
    },
    {
     "data": {
      "text/plain": [
       "<keras.callbacks.History at 0x29100027f60>"
      ]
     },
     "execution_count": 10,
     "metadata": {},
     "output_type": "execute_result"
    }
   ],
   "source": [
    "# convert train labels to categorical Keras\n",
    "y_train = to_categorical(y_train, 10)\n",
    "y_test = to_categorical(y_test, 10)\n",
    "\n",
    "cnn = build_model()\n",
    "cnn.fit(X_train,\n",
    "        y_train,\n",
    "        epochs=1,\n",
    "        batch_size=64)"
   ]
  },
  {
   "cell_type": "code",
   "execution_count": 11,
   "metadata": {},
   "outputs": [
    {
     "name": "stdout",
     "output_type": "stream",
     "text": [
      "8400/8400 [==============================] - 2s 212us/step\n"
     ]
    },
    {
     "data": {
      "text/plain": [
       "0.99"
      ]
     },
     "execution_count": 11,
     "metadata": {},
     "output_type": "execute_result"
    }
   ],
   "source": [
    "# get score test model\n",
    "test_loss, test_acc = cnn.evaluate(X_test, y_test)\n",
    "test_acc"
   ]
  },
  {
   "cell_type": "code",
   "execution_count": 12,
   "metadata": {},
   "outputs": [],
   "source": [
    "# predict test data\n",
    "predict_test = cnn.predict_classes(X_test)\n",
    "y_correct = np.argmax(y_test, axis=1)\n",
    "\n",
    "correct_idx = np.nonzero(predict_test==y_correct)\n",
    "incorrect_idx = np.nonzero(predict_test!=y_correct)"
   ]
  },
  {
   "cell_type": "code",
   "execution_count": 13,
   "metadata": {},
   "outputs": [
    {
     "name": "stdout",
     "output_type": "stream",
     "text": [
      "              precision    recall  f1-score   support\n",
      "\n",
      "     Class 0       0.99      1.00      0.99       806\n",
      "     Class 1       0.99      1.00      1.00       954\n",
      "     Class 2       0.99      0.98      0.99       849\n",
      "     Class 3       0.99      1.00      0.99       890\n",
      "     Class 4       0.99      0.99      0.99       817\n",
      "     Class 5       0.99      0.99      0.99       734\n",
      "     Class 6       0.99      1.00      0.99       836\n",
      "     Class 7       0.98      1.00      0.99       840\n",
      "     Class 8       0.99      0.98      0.98       805\n",
      "     Class 9       0.99      0.97      0.98       869\n",
      "\n",
      "   micro avg       0.99      0.99      0.99      8400\n",
      "   macro avg       0.99      0.99      0.99      8400\n",
      "weighted avg       0.99      0.99      0.99      8400\n",
      "\n"
     ]
    }
   ],
   "source": [
    "# show report test data\n",
    "target_names = [\"Class {}\".format(i) for i in range(10)]\n",
    "print(classification_report(y_correct, predict_test, target_names=target_names))"
   ]
  },
  {
   "cell_type": "markdown",
   "metadata": {},
   "source": [
    "## <b><font color='3C89F9'>Save results</font>"
   ]
  },
  {
   "cell_type": "code",
   "execution_count": 14,
   "metadata": {},
   "outputs": [],
   "source": [
    "# predict finish test data\n",
    "predict = cnn.predict_classes(Y_finish)"
   ]
  },
  {
   "cell_type": "code",
   "execution_count": 15,
   "metadata": {},
   "outputs": [],
   "source": [
    "# create DataFrame predict finish data\n",
    "df_out = pd.DataFrame({'ImageId': range(1, len(predict)+1),\n",
    "                       'Label': predict})"
   ]
  },
  {
   "cell_type": "code",
   "execution_count": 16,
   "metadata": {},
   "outputs": [],
   "source": [
    "# create answers for Kaggle csv\n",
    "df_out.to_csv('mnist_cnn.csv', index=False, header=True)"
   ]
  },
  {
   "cell_type": "code",
   "execution_count": null,
   "metadata": {},
   "outputs": [],
   "source": []
  }
 ],
 "metadata": {
  "kernelspec": {
   "display_name": "Python 3",
   "language": "python",
   "name": "python3"
  },
  "language_info": {
   "codemirror_mode": {
    "name": "ipython",
    "version": 3
   },
   "file_extension": ".py",
   "mimetype": "text/x-python",
   "name": "python",
   "nbconvert_exporter": "python",
   "pygments_lexer": "ipython3",
   "version": "3.7.1"
  }
 },
 "nbformat": 4,
 "nbformat_minor": 2
}
