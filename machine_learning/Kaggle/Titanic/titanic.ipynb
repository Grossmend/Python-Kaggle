{
 "cells": [
  {
   "cell_type": "code",
   "execution_count": 364,
   "metadata": {},
   "outputs": [],
   "source": [
    "# by Grossmend, 2018"
   ]
  },
  {
   "cell_type": "code",
   "execution_count": null,
   "metadata": {},
   "outputs": [],
   "source": [
    "import pandas as pd\n",
    "import numpy as np\n",
    "import matplotlib.pyplot as plt\n",
    "import seaborn as sns\n",
    "import time\n",
    "\n",
    "from sklearn.model_selection import train_test_split\n",
    "from sklearn.preprocessing import MinMaxScaler\n",
    "from sklearn.model_selection import StratifiedKFold\n",
    "from sklearn.model_selection import cross_val_score"
   ]
  },
  {
   "cell_type": "markdown",
   "metadata": {},
   "source": [
    "## <b><font color='3C89F9'>1. Data preparation</font></b>"
   ]
  },
  {
   "cell_type": "code",
   "execution_count": 151,
   "metadata": {},
   "outputs": [],
   "source": [
    "# load data\n",
    "\n",
    "# train data\n",
    "train_data = pd.read_csv('C:/Users/market8/Desktop/GitHub/CSV/titanic/dataset_kaggle/train.csv')\n",
    "\n",
    "# test data\n",
    "test_data = pd.read_csv('C:/Users/market8/Desktop/GitHub/CSV/titanic/dataset_kaggle/test.csv')"
   ]
  },
  {
   "cell_type": "code",
   "execution_count": 152,
   "metadata": {},
   "outputs": [
    {
     "name": "stdout",
     "output_type": "stream",
     "text": [
      "False\n",
      "False\n"
     ]
    }
   ],
   "source": [
    "# check duplecated field \"PassengerId\"\n",
    "print(any(train_data['PassengerId'].duplicated()))\n",
    "print(any(test_data['PassengerId'].duplicated()))"
   ]
  },
  {
   "cell_type": "code",
   "execution_count": 153,
   "metadata": {},
   "outputs": [
    {
     "data": {
      "text/html": [
       "<div>\n",
       "<style scoped>\n",
       "    .dataframe tbody tr th:only-of-type {\n",
       "        vertical-align: middle;\n",
       "    }\n",
       "\n",
       "    .dataframe tbody tr th {\n",
       "        vertical-align: top;\n",
       "    }\n",
       "\n",
       "    .dataframe thead th {\n",
       "        text-align: right;\n",
       "    }\n",
       "</style>\n",
       "<table border=\"1\" class=\"dataframe\">\n",
       "  <thead>\n",
       "    <tr style=\"text-align: right;\">\n",
       "      <th></th>\n",
       "      <th></th>\n",
       "      <th>Survived</th>\n",
       "      <th>Pclass</th>\n",
       "      <th>Name</th>\n",
       "      <th>Sex</th>\n",
       "      <th>Age</th>\n",
       "      <th>SibSp</th>\n",
       "      <th>Parch</th>\n",
       "      <th>Ticket</th>\n",
       "      <th>Fare</th>\n",
       "      <th>Cabin</th>\n",
       "      <th>Embarked</th>\n",
       "    </tr>\n",
       "    <tr>\n",
       "      <th></th>\n",
       "      <th>PassengerId</th>\n",
       "      <th></th>\n",
       "      <th></th>\n",
       "      <th></th>\n",
       "      <th></th>\n",
       "      <th></th>\n",
       "      <th></th>\n",
       "      <th></th>\n",
       "      <th></th>\n",
       "      <th></th>\n",
       "      <th></th>\n",
       "      <th></th>\n",
       "    </tr>\n",
       "  </thead>\n",
       "  <tbody>\n",
       "    <tr>\n",
       "      <th rowspan=\"10\" valign=\"top\">train</th>\n",
       "      <th>1</th>\n",
       "      <td>0.0</td>\n",
       "      <td>3</td>\n",
       "      <td>Braund, Mr. Owen Harris</td>\n",
       "      <td>male</td>\n",
       "      <td>22.0</td>\n",
       "      <td>1</td>\n",
       "      <td>0</td>\n",
       "      <td>A/5 21171</td>\n",
       "      <td>7.2500</td>\n",
       "      <td>NaN</td>\n",
       "      <td>S</td>\n",
       "    </tr>\n",
       "    <tr>\n",
       "      <th>2</th>\n",
       "      <td>1.0</td>\n",
       "      <td>1</td>\n",
       "      <td>Cumings, Mrs. John Bradley (Florence Briggs Th...</td>\n",
       "      <td>female</td>\n",
       "      <td>38.0</td>\n",
       "      <td>1</td>\n",
       "      <td>0</td>\n",
       "      <td>PC 17599</td>\n",
       "      <td>71.2833</td>\n",
       "      <td>C85</td>\n",
       "      <td>C</td>\n",
       "    </tr>\n",
       "    <tr>\n",
       "      <th>3</th>\n",
       "      <td>1.0</td>\n",
       "      <td>3</td>\n",
       "      <td>Heikkinen, Miss. Laina</td>\n",
       "      <td>female</td>\n",
       "      <td>26.0</td>\n",
       "      <td>0</td>\n",
       "      <td>0</td>\n",
       "      <td>STON/O2. 3101282</td>\n",
       "      <td>7.9250</td>\n",
       "      <td>NaN</td>\n",
       "      <td>S</td>\n",
       "    </tr>\n",
       "    <tr>\n",
       "      <th>4</th>\n",
       "      <td>1.0</td>\n",
       "      <td>1</td>\n",
       "      <td>Futrelle, Mrs. Jacques Heath (Lily May Peel)</td>\n",
       "      <td>female</td>\n",
       "      <td>35.0</td>\n",
       "      <td>1</td>\n",
       "      <td>0</td>\n",
       "      <td>113803</td>\n",
       "      <td>53.1000</td>\n",
       "      <td>C123</td>\n",
       "      <td>S</td>\n",
       "    </tr>\n",
       "    <tr>\n",
       "      <th>5</th>\n",
       "      <td>0.0</td>\n",
       "      <td>3</td>\n",
       "      <td>Allen, Mr. William Henry</td>\n",
       "      <td>male</td>\n",
       "      <td>35.0</td>\n",
       "      <td>0</td>\n",
       "      <td>0</td>\n",
       "      <td>373450</td>\n",
       "      <td>8.0500</td>\n",
       "      <td>NaN</td>\n",
       "      <td>S</td>\n",
       "    </tr>\n",
       "    <tr>\n",
       "      <th>6</th>\n",
       "      <td>0.0</td>\n",
       "      <td>3</td>\n",
       "      <td>Moran, Mr. James</td>\n",
       "      <td>male</td>\n",
       "      <td>NaN</td>\n",
       "      <td>0</td>\n",
       "      <td>0</td>\n",
       "      <td>330877</td>\n",
       "      <td>8.4583</td>\n",
       "      <td>NaN</td>\n",
       "      <td>Q</td>\n",
       "    </tr>\n",
       "    <tr>\n",
       "      <th>7</th>\n",
       "      <td>0.0</td>\n",
       "      <td>1</td>\n",
       "      <td>McCarthy, Mr. Timothy J</td>\n",
       "      <td>male</td>\n",
       "      <td>54.0</td>\n",
       "      <td>0</td>\n",
       "      <td>0</td>\n",
       "      <td>17463</td>\n",
       "      <td>51.8625</td>\n",
       "      <td>E46</td>\n",
       "      <td>S</td>\n",
       "    </tr>\n",
       "    <tr>\n",
       "      <th>8</th>\n",
       "      <td>0.0</td>\n",
       "      <td>3</td>\n",
       "      <td>Palsson, Master. Gosta Leonard</td>\n",
       "      <td>male</td>\n",
       "      <td>2.0</td>\n",
       "      <td>3</td>\n",
       "      <td>1</td>\n",
       "      <td>349909</td>\n",
       "      <td>21.0750</td>\n",
       "      <td>NaN</td>\n",
       "      <td>S</td>\n",
       "    </tr>\n",
       "    <tr>\n",
       "      <th>9</th>\n",
       "      <td>1.0</td>\n",
       "      <td>3</td>\n",
       "      <td>Johnson, Mrs. Oscar W (Elisabeth Vilhelmina Berg)</td>\n",
       "      <td>female</td>\n",
       "      <td>27.0</td>\n",
       "      <td>0</td>\n",
       "      <td>2</td>\n",
       "      <td>347742</td>\n",
       "      <td>11.1333</td>\n",
       "      <td>NaN</td>\n",
       "      <td>S</td>\n",
       "    </tr>\n",
       "    <tr>\n",
       "      <th>10</th>\n",
       "      <td>1.0</td>\n",
       "      <td>2</td>\n",
       "      <td>Nasser, Mrs. Nicholas (Adele Achem)</td>\n",
       "      <td>female</td>\n",
       "      <td>14.0</td>\n",
       "      <td>1</td>\n",
       "      <td>0</td>\n",
       "      <td>237736</td>\n",
       "      <td>30.0708</td>\n",
       "      <td>NaN</td>\n",
       "      <td>C</td>\n",
       "    </tr>\n",
       "  </tbody>\n",
       "</table>\n",
       "</div>"
      ],
      "text/plain": [
       "                   Survived  Pclass  \\\n",
       "      PassengerId                     \n",
       "train 1                 0.0       3   \n",
       "      2                 1.0       1   \n",
       "      3                 1.0       3   \n",
       "      4                 1.0       1   \n",
       "      5                 0.0       3   \n",
       "      6                 0.0       3   \n",
       "      7                 0.0       1   \n",
       "      8                 0.0       3   \n",
       "      9                 1.0       3   \n",
       "      10                1.0       2   \n",
       "\n",
       "                                                                Name     Sex  \\\n",
       "      PassengerId                                                              \n",
       "train 1                                      Braund, Mr. Owen Harris    male   \n",
       "      2            Cumings, Mrs. John Bradley (Florence Briggs Th...  female   \n",
       "      3                                       Heikkinen, Miss. Laina  female   \n",
       "      4                 Futrelle, Mrs. Jacques Heath (Lily May Peel)  female   \n",
       "      5                                     Allen, Mr. William Henry    male   \n",
       "      6                                             Moran, Mr. James    male   \n",
       "      7                                      McCarthy, Mr. Timothy J    male   \n",
       "      8                               Palsson, Master. Gosta Leonard    male   \n",
       "      9            Johnson, Mrs. Oscar W (Elisabeth Vilhelmina Berg)  female   \n",
       "      10                         Nasser, Mrs. Nicholas (Adele Achem)  female   \n",
       "\n",
       "                    Age  SibSp  Parch            Ticket     Fare Cabin  \\\n",
       "      PassengerId                                                        \n",
       "train 1            22.0      1      0         A/5 21171   7.2500   NaN   \n",
       "      2            38.0      1      0          PC 17599  71.2833   C85   \n",
       "      3            26.0      0      0  STON/O2. 3101282   7.9250   NaN   \n",
       "      4            35.0      1      0            113803  53.1000  C123   \n",
       "      5            35.0      0      0            373450   8.0500   NaN   \n",
       "      6             NaN      0      0            330877   8.4583   NaN   \n",
       "      7            54.0      0      0             17463  51.8625   E46   \n",
       "      8             2.0      3      1            349909  21.0750   NaN   \n",
       "      9            27.0      0      2            347742  11.1333   NaN   \n",
       "      10           14.0      1      0            237736  30.0708   NaN   \n",
       "\n",
       "                  Embarked  \n",
       "      PassengerId           \n",
       "train 1                  S  \n",
       "      2                  C  \n",
       "      3                  S  \n",
       "      4                  S  \n",
       "      5                  S  \n",
       "      6                  Q  \n",
       "      7                  S  \n",
       "      8                  S  \n",
       "      9                  S  \n",
       "      10                 C  "
      ]
     },
     "execution_count": 153,
     "metadata": {},
     "output_type": "execute_result"
    }
   ],
   "source": [
    "# concat train and test data in one DataFrame\n",
    "all_data = pd.concat([train_data.set_index('PassengerId'), test_data.set_index('PassengerId')], keys=['train', 'test'], axis=0, sort=False)\n",
    "\n",
    "# show first 10 row data\n",
    "all_data.head(10)"
   ]
  },
  {
   "cell_type": "code",
   "execution_count": 154,
   "metadata": {},
   "outputs": [],
   "source": [
    "# description of columns:\n",
    "\n",
    "# Survived - Survival (0 = No; 1 = Yes)\n",
    "# Pclass - Passenger Class (1 = 1st; 2 = 2nd; 3 = 3rd)\n",
    "# Name - Name\n",
    "# Sex - Sex\n",
    "# Age - Age\n",
    "# SibSp - Number of Siblings/Spouses Aboard\n",
    "# Parch - Number of Parents/Children Aboard\n",
    "# Ticket - Ticket Number\n",
    "# Fare - Passenger Fare ()\n",
    "# Cabin - Cabin (Number)\n",
    "# Embarked - Port of Embarkation (C = Cherbourg; Q = Queenstown; S = Southampton)"
   ]
  },
  {
   "cell_type": "code",
   "execution_count": 155,
   "metadata": {},
   "outputs": [
    {
     "name": "stdout",
     "output_type": "stream",
     "text": [
      "<class 'pandas.core.frame.DataFrame'>\n",
      "MultiIndex: 1309 entries, (train, 1) to (test, 1309)\n",
      "Data columns (total 11 columns):\n",
      "Survived    891 non-null float64\n",
      "Pclass      1309 non-null int64\n",
      "Name        1309 non-null object\n",
      "Sex         1309 non-null object\n",
      "Age         1046 non-null float64\n",
      "SibSp       1309 non-null int64\n",
      "Parch       1309 non-null int64\n",
      "Ticket      1309 non-null object\n",
      "Fare        1308 non-null float64\n",
      "Cabin       295 non-null object\n",
      "Embarked    1307 non-null object\n",
      "dtypes: float64(3), int64(3), object(5)\n",
      "memory usage: 126.6+ KB\n",
      "0.24.1\n"
     ]
    }
   ],
   "source": [
    "# show info\n",
    "all_data.info()\n",
    "print(pd.__version__)"
   ]
  },
  {
   "cell_type": "code",
   "execution_count": 156,
   "metadata": {},
   "outputs": [
    {
     "name": "stdout",
     "output_type": "stream",
     "text": [
      "Empty values:\n"
     ]
    },
    {
     "data": {
      "text/plain": [
       "Survived     418\n",
       "Pclass         0\n",
       "Name           0\n",
       "Sex            0\n",
       "Age          263\n",
       "SibSp          0\n",
       "Parch          0\n",
       "Ticket         0\n",
       "Fare           1\n",
       "Cabin       1014\n",
       "Embarked       2\n",
       "dtype: int64"
      ]
     },
     "execution_count": 156,
     "metadata": {},
     "output_type": "execute_result"
    }
   ],
   "source": [
    "# count empty values\n",
    "print('Empty values:')\n",
    "all_data.isnull().sum()"
   ]
  },
  {
   "cell_type": "code",
   "execution_count": 157,
   "metadata": {},
   "outputs": [],
   "source": [
    "all_data['Counter'] = 1"
   ]
  },
  {
   "cell_type": "markdown",
   "metadata": {},
   "source": [
    "### <b><font color='green'>\"Name\"</font> field processing</b>"
   ]
  },
  {
   "cell_type": "code",
   "execution_count": 158,
   "metadata": {},
   "outputs": [
    {
     "data": {
      "text/plain": [
       "Mr        757\n",
       "Miss      262\n",
       "Mrs       201\n",
       "Master     61\n",
       "Other      28\n",
       "Name: Name, dtype: int64"
      ]
     },
     "execution_count": 158,
     "metadata": {},
     "output_type": "execute_result"
    }
   ],
   "source": [
    "# select 'Title' from field 'Name'\n",
    "\n",
    "def title_parser(name):\n",
    "    \n",
    "    if not isinstance(name, str):\n",
    "        return name\n",
    "        \n",
    "    if len(name.split()) == 1:\n",
    "        return name\n",
    "    \n",
    "    try:\n",
    "        parser_name = name.split(',')[1].split('.')[0].strip()\n",
    "    except Exception as e:\n",
    "        parser_name = 'error_parse'\n",
    "    \n",
    "    if parser_name == 'Mlle' or parser_name == 'Miss':\n",
    "        parser_name = 'Miss'\n",
    "    elif parser_name == 'Mme' or parser_name == 'Lady' or parser_name == 'Ms' or parser_name == 'Mrs':\n",
    "        parser_name = 'Mrs'\n",
    "    elif parser_name == 'Master':\n",
    "        parser_name = 'Master'\n",
    "    elif parser_name == 'Mr':\n",
    "        parser_name = 'Mr'\n",
    "    elif parser_name == 'error_parse':\n",
    "        parser_name = 'error_parse'\n",
    "    else:\n",
    "        parser_name = 'Other'\n",
    "        \n",
    "    return parser_name\n",
    "\n",
    "\n",
    "# processing field 'Name'\n",
    "all_data['Name'] = all_data['Name'].apply(title_parser)\n",
    "\n",
    "# unique count field 'Name' after processing\n",
    "all_data['Name'].value_counts()"
   ]
  },
  {
   "cell_type": "code",
   "execution_count": 159,
   "metadata": {},
   "outputs": [
    {
     "data": {
      "text/plain": [
       "0.00    757\n",
       "0.25    262\n",
       "0.50    201\n",
       "0.75     61\n",
       "1.00     28\n",
       "Name: Name, dtype: int64"
      ]
     },
     "execution_count": 159,
     "metadata": {},
     "output_type": "execute_result"
    }
   ],
   "source": [
    "# normalize between 0 and 1 field 'Name'\n",
    "\n",
    "def name_to_number(name):\n",
    "    \n",
    "    if not isinstance(name, str):\n",
    "        return name\n",
    "    \n",
    "    if name == 'Mr':\n",
    "        number_name = 0\n",
    "    elif name == 'Miss':\n",
    "        number_name = 1\n",
    "    elif name == 'Mrs':\n",
    "        number_name = 2\n",
    "    elif name == 'Master':\n",
    "        number_name = 3\n",
    "    elif name == 'Other':\n",
    "        number_name = 4\n",
    "    else:\n",
    "        number_name = -1\n",
    "        \n",
    "    return float(number_name)\n",
    "\n",
    "# convert field 'Name' string to number\n",
    "all_data['Name'] = all_data['Name'].apply(name_to_number)\n",
    "\n",
    "# # alternative methods\n",
    "# all_data['Name'] = all_data['Name'].replace(['Mr', 'Miss', 'Mrs', 'Master', 'Other'], [0, 1, 2, 3, 4])\n",
    "# all_data['Name'] = all_data['Name'].map({'Mr': 0, 'Miss': 1, 'Mrs': 2, 'Master': 3, 'Other': 4})\n",
    "\n",
    "# normalize between 0 and 1 field 'Name'\n",
    "scaler = MinMaxScaler()\n",
    "all_data['Name'] = scaler.fit_transform(all_data[['Name']])\n",
    "all_data['Name'].value_counts()"
   ]
  },
  {
   "cell_type": "markdown",
   "metadata": {},
   "source": [
    "### <b><font color='green'>\"Sex\"</font> field processing</b>"
   ]
  },
  {
   "cell_type": "code",
   "execution_count": 160,
   "metadata": {},
   "outputs": [
    {
     "name": "stdout",
     "output_type": "stream",
     "text": [
      "      Sex  Survived\n",
      "0  female  0.742038\n",
      "1    male  0.188908\n"
     ]
    }
   ],
   "source": [
    "# look at survival by sex\n",
    "print(all_data[['Sex', 'Survived']].groupby(['Sex'], as_index=False).mean())"
   ]
  },
  {
   "cell_type": "code",
   "execution_count": 161,
   "metadata": {},
   "outputs": [
    {
     "data": {
      "text/plain": [
       "Pclass  Sex     Survived\n",
       "1       female  1.0          91\n",
       "                0.0           3\n",
       "        male    0.0          77\n",
       "                1.0          45\n",
       "2       female  1.0          70\n",
       "                0.0           6\n",
       "        male    0.0          91\n",
       "                1.0          17\n",
       "3       female  0.0          72\n",
       "                1.0          72\n",
       "        male    0.0         300\n",
       "                1.0          47\n",
       "Name: Survived, dtype: int64"
      ]
     },
     "execution_count": 161,
     "metadata": {},
     "output_type": "execute_result"
    }
   ],
   "source": [
    "# look at count survival by 'sex' and 'class'\n",
    "\n",
    "all_data.groupby([\"Pclass\", \"Sex\"])[\"Survived\"].value_counts()"
   ]
  },
  {
   "cell_type": "code",
   "execution_count": 162,
   "metadata": {},
   "outputs": [
    {
     "data": {
      "text/plain": [
       "0.0    843\n",
       "1.0    466\n",
       "Name: Sex, dtype: int64"
      ]
     },
     "execution_count": 162,
     "metadata": {},
     "output_type": "execute_result"
    }
   ],
   "source": [
    "# normalize between 0 and 1 field 'Sex'\n",
    "\n",
    "def sex_to_number(name):\n",
    "    \n",
    "    if not isinstance(name, str):\n",
    "        return name\n",
    "    \n",
    "    if name == 'male':\n",
    "        number_sex = 0\n",
    "    elif name == 'female':\n",
    "        number_sex = 1\n",
    "    else:\n",
    "        number_sex = -1\n",
    "        \n",
    "    return float(number_sex)\n",
    "\n",
    "# convert field 'Name' string to number\n",
    "all_data['Sex'] = all_data['Sex'].apply(sex_to_number)\n",
    "\n",
    "# normalize between 0 and 1 field 'Name'\n",
    "scaler = MinMaxScaler()\n",
    "all_data['Sex'] = scaler.fit_transform(all_data[['Sex']])\n",
    "all_data['Sex'].value_counts()"
   ]
  },
  {
   "cell_type": "markdown",
   "metadata": {},
   "source": [
    "### <b><font color='green'>\"Family\"</font> create field and processing</b>"
   ]
  },
  {
   "cell_type": "code",
   "execution_count": 163,
   "metadata": {},
   "outputs": [
    {
     "name": "stdout",
     "output_type": "stream",
     "text": [
      "int64\n",
      "int64\n"
     ]
    },
    {
     "data": {
      "text/html": [
       "<div>\n",
       "<style scoped>\n",
       "    .dataframe tbody tr th:only-of-type {\n",
       "        vertical-align: middle;\n",
       "    }\n",
       "\n",
       "    .dataframe tbody tr th {\n",
       "        vertical-align: top;\n",
       "    }\n",
       "\n",
       "    .dataframe thead th {\n",
       "        text-align: right;\n",
       "    }\n",
       "</style>\n",
       "<table border=\"1\" class=\"dataframe\">\n",
       "  <thead>\n",
       "    <tr style=\"text-align: right;\">\n",
       "      <th></th>\n",
       "      <th>Family</th>\n",
       "      <th>Survived</th>\n",
       "      <th>Count</th>\n",
       "    </tr>\n",
       "  </thead>\n",
       "  <tbody>\n",
       "    <tr>\n",
       "      <th>0</th>\n",
       "      <td>1</td>\n",
       "      <td>0.303538</td>\n",
       "      <td>790</td>\n",
       "    </tr>\n",
       "    <tr>\n",
       "      <th>1</th>\n",
       "      <td>2</td>\n",
       "      <td>0.552795</td>\n",
       "      <td>235</td>\n",
       "    </tr>\n",
       "    <tr>\n",
       "      <th>2</th>\n",
       "      <td>3</td>\n",
       "      <td>0.578431</td>\n",
       "      <td>159</td>\n",
       "    </tr>\n",
       "    <tr>\n",
       "      <th>3</th>\n",
       "      <td>4</td>\n",
       "      <td>0.724138</td>\n",
       "      <td>43</td>\n",
       "    </tr>\n",
       "    <tr>\n",
       "      <th>4</th>\n",
       "      <td>5</td>\n",
       "      <td>0.200000</td>\n",
       "      <td>22</td>\n",
       "    </tr>\n",
       "    <tr>\n",
       "      <th>5</th>\n",
       "      <td>6</td>\n",
       "      <td>0.136364</td>\n",
       "      <td>25</td>\n",
       "    </tr>\n",
       "    <tr>\n",
       "      <th>6</th>\n",
       "      <td>7</td>\n",
       "      <td>0.333333</td>\n",
       "      <td>16</td>\n",
       "    </tr>\n",
       "    <tr>\n",
       "      <th>7</th>\n",
       "      <td>8</td>\n",
       "      <td>0.000000</td>\n",
       "      <td>8</td>\n",
       "    </tr>\n",
       "    <tr>\n",
       "      <th>8</th>\n",
       "      <td>11</td>\n",
       "      <td>0.000000</td>\n",
       "      <td>11</td>\n",
       "    </tr>\n",
       "  </tbody>\n",
       "</table>\n",
       "</div>"
      ],
      "text/plain": [
       "   Family  Survived  Count\n",
       "0       1  0.303538    790\n",
       "1       2  0.552795    235\n",
       "2       3  0.578431    159\n",
       "3       4  0.724138     43\n",
       "4       5  0.200000     22\n",
       "5       6  0.136364     25\n",
       "6       7  0.333333     16\n",
       "7       8  0.000000      8\n",
       "8      11  0.000000     11"
      ]
     },
     "execution_count": 163,
     "metadata": {},
     "output_type": "execute_result"
    }
   ],
   "source": [
    "print(np.dtype(all_data['SibSp']))\n",
    "print(np.dtype(all_data['Parch']))\n",
    "\n",
    "# create new field 'Family' from sum 'SibSp' + 'Parch'\n",
    "all_data['Family'] = all_data['SibSp'].astype(int) + all_data['Parch'] + 1\n",
    "\n",
    "# convert column to float\n",
    "all_data['Family'] = all_data[\"Family\"]\n",
    "\n",
    "# view how influence 'Family' survival\n",
    "df_family = all_data[['Family', 'Survived', 'Counter']].copy()\n",
    "df_family.groupby('Family', as_index=False).agg({'Survived': 'mean', 'Counter': 'count'}).rename(columns={'Counter': 'Count'})"
   ]
  },
  {
   "cell_type": "code",
   "execution_count": 164,
   "metadata": {},
   "outputs": [
    {
     "data": {
      "text/html": [
       "<div>\n",
       "<style scoped>\n",
       "    .dataframe tbody tr th:only-of-type {\n",
       "        vertical-align: middle;\n",
       "    }\n",
       "\n",
       "    .dataframe tbody tr th {\n",
       "        vertical-align: top;\n",
       "    }\n",
       "\n",
       "    .dataframe thead th {\n",
       "        text-align: right;\n",
       "    }\n",
       "</style>\n",
       "<table border=\"1\" class=\"dataframe\">\n",
       "  <thead>\n",
       "    <tr style=\"text-align: right;\">\n",
       "      <th></th>\n",
       "      <th>Family</th>\n",
       "      <th>Survived</th>\n",
       "      <th>Count</th>\n",
       "    </tr>\n",
       "  </thead>\n",
       "  <tbody>\n",
       "    <tr>\n",
       "      <th>0</th>\n",
       "      <td>1.0</td>\n",
       "      <td>0.303538</td>\n",
       "      <td>790</td>\n",
       "    </tr>\n",
       "    <tr>\n",
       "      <th>1</th>\n",
       "      <td>2.0</td>\n",
       "      <td>0.562738</td>\n",
       "      <td>394</td>\n",
       "    </tr>\n",
       "    <tr>\n",
       "      <th>2</th>\n",
       "      <td>3.0</td>\n",
       "      <td>0.724138</td>\n",
       "      <td>43</td>\n",
       "    </tr>\n",
       "    <tr>\n",
       "      <th>3</th>\n",
       "      <td>4.0</td>\n",
       "      <td>0.204082</td>\n",
       "      <td>63</td>\n",
       "    </tr>\n",
       "    <tr>\n",
       "      <th>4</th>\n",
       "      <td>5.0</td>\n",
       "      <td>0.000000</td>\n",
       "      <td>19</td>\n",
       "    </tr>\n",
       "  </tbody>\n",
       "</table>\n",
       "</div>"
      ],
      "text/plain": [
       "   Family  Survived  Count\n",
       "0     1.0  0.303538    790\n",
       "1     2.0  0.562738    394\n",
       "2     3.0  0.724138     43\n",
       "3     4.0  0.204082     63\n",
       "4     5.0  0.000000     19"
      ]
     },
     "execution_count": 164,
     "metadata": {},
     "output_type": "execute_result"
    }
   ],
   "source": [
    "def family_agr(family_count):\n",
    "    \n",
    "    \"\"\" function group family count \"\"\"\n",
    "    \n",
    "    if not isinstance(family_count, int):\n",
    "        return family_count\n",
    "    \n",
    "    if family_count == 1:\n",
    "        family_group = 1\n",
    "    elif (family_count == 2) or (family_count == 3):\n",
    "        family_group = 2\n",
    "    elif family_count == 4:\n",
    "        family_group = 3\n",
    "    elif (family_count == 5) or (family_count == 6) or (family_count == 7):\n",
    "        family_group = 4\n",
    "    elif (family_count == 8) or (family_count == 11):\n",
    "        family_group = 5\n",
    "    else:\n",
    "        family_group = 6\n",
    "    \n",
    "    return float(family_group)\n",
    "    \n",
    "    \n",
    "# convert field 'Name' string to number\n",
    "all_data['Family'] = all_data['Family'].apply(family_agr)\n",
    "all_data.groupby('Family', as_index=False).agg({'Survived': 'mean', 'Counter': 'count'}).rename(columns={'Counter': 'Count'})"
   ]
  },
  {
   "cell_type": "code",
   "execution_count": 165,
   "metadata": {},
   "outputs": [
    {
     "data": {
      "text/plain": [
       "0.00    790\n",
       "0.25    394\n",
       "0.75     63\n",
       "0.50     43\n",
       "1.00     19\n",
       "Name: Family, dtype: int64"
      ]
     },
     "execution_count": 165,
     "metadata": {},
     "output_type": "execute_result"
    }
   ],
   "source": [
    "# normalize field 'Family'\n",
    "scaler = MinMaxScaler()\n",
    "all_data['Family'] = scaler.fit_transform(all_data[['Family']])\n",
    "all_data['Family'].value_counts()"
   ]
  },
  {
   "cell_type": "markdown",
   "metadata": {},
   "source": [
    "### <b><font color='green'>\"Fare\"</font> field processing</b>"
   ]
  },
  {
   "cell_type": "code",
   "execution_count": 166,
   "metadata": {},
   "outputs": [
    {
     "name": "stdout",
     "output_type": "stream",
     "text": [
      "Count empty \"Fare\": 1\n"
     ]
    }
   ],
   "source": [
    "# count empty value field \"Fare\"\n",
    "print('Count empty \"Fare\":', all_data['Fare'].isnull().sum())"
   ]
  },
  {
   "cell_type": "code",
   "execution_count": 167,
   "metadata": {},
   "outputs": [
    {
     "name": "stdout",
     "output_type": "stream",
     "text": [
      "Count empty \"Fare\": 0\n"
     ]
    }
   ],
   "source": [
    "# fill empty values mean group from filed \"Pclass\"\n",
    "all_data['Fare'] = all_data['Fare'].fillna(all_data.groupby('Pclass')['Fare'].transform('mean'))\n",
    "print('Count empty \"Fare\":', all_data['Fare'].isnull().sum())"
   ]
  },
  {
   "cell_type": "code",
   "execution_count": 168,
   "metadata": {},
   "outputs": [
    {
     "name": "stdout",
     "output_type": "stream",
     "text": [
      "Zero counts in field \"Fare\" 17\n",
      "Count zero \"Fare\": 0\n"
     ]
    }
   ],
   "source": [
    "# field \"Fare\" contains zero values\n",
    "print('Zero counts in field \"Fare\"', all_data[all_data['Fare'] == 0].shape[0])\n",
    "\n",
    "# fill zero values mean group from fields \"Pclass\" and \"Sex\" (slow method)\n",
    "all_data['Fare'] = all_data['Fare'].replace(0, all_data.groupby('Pclass')['Fare'].transform('mean'))\n",
    "\n",
    "print('Count zero \"Fare\":', all_data['Fare'][all_data['Fare']==0].count())"
   ]
  },
  {
   "cell_type": "code",
   "execution_count": 169,
   "metadata": {},
   "outputs": [
    {
     "data": {
      "text/plain": [
       "Text(0.5, 1.0, '\"Fare\" field sort values')"
      ]
     },
     "execution_count": 169,
     "metadata": {},
     "output_type": "execute_result"
    },
    {
     "data": {
      "image/png": "[encoded data removed]",
      "text/plain": [
       "<Figure size 432x288 with 1 Axes>"
      ]
     },
     "metadata": {
      "needs_background": "light"
     },
     "output_type": "display_data"
    }
   ],
   "source": [
    "# view \"Fare\" values\n",
    "plt.plot(all_data['Fare'].sort_values().reset_index(drop=True));\n",
    "plt.title('\"Fare\" field sort values')"
   ]
  },
  {
   "cell_type": "code",
   "execution_count": 170,
   "metadata": {},
   "outputs": [],
   "source": [
    "# convert fielf \"Fare\" to categorical\n",
    "all_data['Fare'] = pd.cut(all_data['Fare'], bins=10, labels=False).astype('float')"
   ]
  },
  {
   "cell_type": "code",
   "execution_count": 171,
   "metadata": {},
   "outputs": [
    {
     "data": {
      "text/plain": [
       "0.000000    1088\n",
       "0.111111     137\n",
       "0.222222      42\n",
       "0.444444      21\n",
       "0.555556      13\n",
       "0.333333       4\n",
       "1.000000       4\n",
       "Name: Fare, dtype: int64"
      ]
     },
     "execution_count": 171,
     "metadata": {},
     "output_type": "execute_result"
    }
   ],
   "source": [
    "# normalize field 'Fare'\n",
    "scaler = MinMaxScaler()\n",
    "all_data['Fare'] = scaler.fit_transform(all_data[['Fare']])\n",
    "all_data['Fare'].value_counts()"
   ]
  },
  {
   "cell_type": "markdown",
   "metadata": {},
   "source": [
    "### <b><font color='green'>\"Age\"</font> field processing</b>"
   ]
  },
  {
   "cell_type": "code",
   "execution_count": 172,
   "metadata": {},
   "outputs": [
    {
     "name": "stdout",
     "output_type": "stream",
     "text": [
      "Count empty \"Age\" field: 263\n",
      "Percentage empty \"Age\" field: 20.09 %\n"
     ]
    }
   ],
   "source": [
    "print('Count empty \"Age\" field:', all_data['Age'].isnull().sum())\n",
    "print('Percentage empty \"Age\" field:', round(all_data['Age'].isnull().sum() / all_data.shape[0] * 100, 2), '%')"
   ]
  },
  {
   "cell_type": "code",
   "execution_count": 173,
   "metadata": {},
   "outputs": [
    {
     "data": {
      "image/png": "[encoded data removed]",
      "text/plain": [
       "<Figure size 432x288 with 1 Axes>"
      ]
     },
     "metadata": {
      "needs_background": "light"
     },
     "output_type": "display_data"
    }
   ],
   "source": [
    "# plot distribution \"Age\" by \"Class\"\n",
    "all_data['Age'][all_data['Pclass'] == 1].plot(kind='kde');\n",
    "all_data['Age'][all_data['Pclass'] == 2].plot(kind='kde');\n",
    "all_data['Age'][all_data['Pclass'] == 3].plot(kind='kde');\n",
    "plt.title(\"Distribution 'Age' by 'Class'\");\n",
    "plt.legend(('1st class', '2nd class','3rd class'),loc='best');"
   ]
  },
  {
   "cell_type": "code",
   "execution_count": 174,
   "metadata": {},
   "outputs": [],
   "source": [
    "# fill empty values \"Age\" by \"Name\" (processing previos)\n",
    "all_data['Age'] = all_data['Age'].fillna(all_data.groupby('Name')['Age'].transform('mean'))"
   ]
  },
  {
   "cell_type": "code",
   "execution_count": 175,
   "metadata": {},
   "outputs": [],
   "source": [
    "# convert fielf \"Fare\" to categorical\n",
    "all_data['Age'] = pd.cut(all_data['Age'], bins=10, labels=False).astype('float')"
   ]
  },
  {
   "cell_type": "code",
   "execution_count": 176,
   "metadata": {},
   "outputs": [
    {
     "data": {
      "text/plain": [
       "0.444444    365\n",
       "0.222222    324\n",
       "0.333333    250\n",
       "0.555556    109\n",
       "0.000000     80\n",
       "0.666667     65\n",
       "0.111111     62\n",
       "0.777778     41\n",
       "0.888889     10\n",
       "1.000000      3\n",
       "Name: Age, dtype: int64"
      ]
     },
     "execution_count": 176,
     "metadata": {},
     "output_type": "execute_result"
    }
   ],
   "source": [
    "# normalize field 'Fare'\n",
    "scaler = MinMaxScaler()\n",
    "all_data['Age'] = scaler.fit_transform(all_data[['Age']])\n",
    "all_data['Age'].value_counts()"
   ]
  },
  {
   "cell_type": "code",
   "execution_count": 177,
   "metadata": {},
   "outputs": [],
   "source": [
    "# all_data['Counter'] = 1\n",
    "# all_data[['Pclass', 'Fare']].groupby('Pclass', as_index=False).mean()\n",
    "# all_data[['Pclass', 'Survived', 'Sex', 'Fare', 'Counter']].groupby(['Pclass', 'Survived', 'Sex'], as_index=False).agg({'Fare': np.mean, 'Counter': np.sum})\n",
    "\n",
    "# # plt.plot(all_data['Fare'].sort_values().reset_index()['Fare'])"
   ]
  },
  {
   "cell_type": "markdown",
   "metadata": {},
   "source": [
    "### <b><font color='green'>\"Cabin\"</font> field processing</b>"
   ]
  },
  {
   "cell_type": "code",
   "execution_count": 178,
   "metadata": {},
   "outputs": [],
   "source": [
    "# fill empty values\n",
    "all_data['Cabin'].fillna('Z',inplace=True)"
   ]
  },
  {
   "cell_type": "code",
   "execution_count": 179,
   "metadata": {},
   "outputs": [],
   "source": [
    "# select 1st element string \"Cabin\"\n",
    "if not np.issubdtype(all_data['Cabin'].dtype, np.number):\n",
    "    all_data['Cabin'] = all_data['Cabin'].map(lambda x : x[0])"
   ]
  },
  {
   "cell_type": "code",
   "execution_count": 180,
   "metadata": {},
   "outputs": [
    {
     "data": {
      "text/html": [
       "<div>\n",
       "<style scoped>\n",
       "    .dataframe tbody tr th:only-of-type {\n",
       "        vertical-align: middle;\n",
       "    }\n",
       "\n",
       "    .dataframe tbody tr th {\n",
       "        vertical-align: top;\n",
       "    }\n",
       "\n",
       "    .dataframe thead th {\n",
       "        text-align: right;\n",
       "    }\n",
       "</style>\n",
       "<table border=\"1\" class=\"dataframe\">\n",
       "  <thead>\n",
       "    <tr style=\"text-align: right;\">\n",
       "      <th></th>\n",
       "      <th>Cabin</th>\n",
       "      <th>Survived</th>\n",
       "      <th>Counter</th>\n",
       "    </tr>\n",
       "  </thead>\n",
       "  <tbody>\n",
       "    <tr>\n",
       "      <th>0</th>\n",
       "      <td>Z</td>\n",
       "      <td>0.299854</td>\n",
       "      <td>1014</td>\n",
       "    </tr>\n",
       "    <tr>\n",
       "      <th>1</th>\n",
       "      <td>C</td>\n",
       "      <td>0.593220</td>\n",
       "      <td>94</td>\n",
       "    </tr>\n",
       "    <tr>\n",
       "      <th>2</th>\n",
       "      <td>B</td>\n",
       "      <td>0.744681</td>\n",
       "      <td>65</td>\n",
       "    </tr>\n",
       "    <tr>\n",
       "      <th>3</th>\n",
       "      <td>D</td>\n",
       "      <td>0.757576</td>\n",
       "      <td>46</td>\n",
       "    </tr>\n",
       "    <tr>\n",
       "      <th>4</th>\n",
       "      <td>E</td>\n",
       "      <td>0.750000</td>\n",
       "      <td>41</td>\n",
       "    </tr>\n",
       "    <tr>\n",
       "      <th>5</th>\n",
       "      <td>A</td>\n",
       "      <td>0.466667</td>\n",
       "      <td>22</td>\n",
       "    </tr>\n",
       "    <tr>\n",
       "      <th>6</th>\n",
       "      <td>F</td>\n",
       "      <td>0.615385</td>\n",
       "      <td>21</td>\n",
       "    </tr>\n",
       "    <tr>\n",
       "      <th>7</th>\n",
       "      <td>G</td>\n",
       "      <td>0.500000</td>\n",
       "      <td>5</td>\n",
       "    </tr>\n",
       "    <tr>\n",
       "      <th>8</th>\n",
       "      <td>T</td>\n",
       "      <td>0.000000</td>\n",
       "      <td>1</td>\n",
       "    </tr>\n",
       "  </tbody>\n",
       "</table>\n",
       "</div>"
      ],
      "text/plain": [
       "  Cabin  Survived  Counter\n",
       "0     Z  0.299854     1014\n",
       "1     C  0.593220       94\n",
       "2     B  0.744681       65\n",
       "3     D  0.757576       46\n",
       "4     E  0.750000       41\n",
       "5     A  0.466667       22\n",
       "6     F  0.615385       21\n",
       "7     G  0.500000        5\n",
       "8     T  0.000000        1"
      ]
     },
     "execution_count": 180,
     "metadata": {},
     "output_type": "execute_result"
    }
   ],
   "source": [
    "# look \"Survived\" and \"Counter\" by \"Cabin\"\n",
    "cabin = all_data.groupby(['Cabin'])['Survived', 'Counter'].agg({'Survived': np.mean, 'Counter': np.sum}).sort_values(by=['Counter'], ascending=[0]).reset_index()\n",
    "cabin"
   ]
  },
  {
   "cell_type": "code",
   "execution_count": 181,
   "metadata": {},
   "outputs": [],
   "source": [
    "# string to numeric field \"Cabin\"\n",
    "if not np.issubdtype(all_data['Cabin'].dtype, np.number):\n",
    "    all_data['Cabin'] = all_data['Cabin'].map(dict(zip(cabin['Cabin'].values, cabin.index.values))).astype(float)"
   ]
  },
  {
   "cell_type": "code",
   "execution_count": 182,
   "metadata": {},
   "outputs": [
    {
     "data": {
      "text/plain": [
       "0.000    1014\n",
       "0.125      94\n",
       "0.250      65\n",
       "0.375      46\n",
       "0.500      41\n",
       "0.625      22\n",
       "0.750      21\n",
       "0.875       5\n",
       "1.000       1\n",
       "Name: Cabin, dtype: int64"
      ]
     },
     "execution_count": 182,
     "metadata": {},
     "output_type": "execute_result"
    }
   ],
   "source": [
    "# normalize field 'Cabin'\n",
    "scaler = MinMaxScaler()\n",
    "all_data['Cabin'] = scaler.fit_transform(all_data[['Cabin']])\n",
    "all_data['Cabin'].value_counts()"
   ]
  },
  {
   "cell_type": "markdown",
   "metadata": {},
   "source": [
    "### <b><font color='green'>\"isAlone\"</font> add field</b>"
   ]
  },
  {
   "cell_type": "code",
   "execution_count": 183,
   "metadata": {},
   "outputs": [],
   "source": [
    "# add field \"is alone\"\n",
    "all_data['isAlone'] = 0\n",
    "all_data.loc[all_data['Family'] == 1, 'isAlone'] = 1"
   ]
  },
  {
   "cell_type": "code",
   "execution_count": 184,
   "metadata": {},
   "outputs": [
    {
     "data": {
      "text/html": [
       "<div>\n",
       "<style scoped>\n",
       "    .dataframe tbody tr th:only-of-type {\n",
       "        vertical-align: middle;\n",
       "    }\n",
       "\n",
       "    .dataframe tbody tr th {\n",
       "        vertical-align: top;\n",
       "    }\n",
       "\n",
       "    .dataframe thead th {\n",
       "        text-align: right;\n",
       "    }\n",
       "</style>\n",
       "<table border=\"1\" class=\"dataframe\">\n",
       "  <thead>\n",
       "    <tr style=\"text-align: right;\">\n",
       "      <th></th>\n",
       "      <th></th>\n",
       "      <th>Survived</th>\n",
       "      <th>Pclass</th>\n",
       "      <th>Name</th>\n",
       "      <th>Sex</th>\n",
       "      <th>Age</th>\n",
       "      <th>SibSp</th>\n",
       "      <th>Parch</th>\n",
       "      <th>Ticket</th>\n",
       "      <th>Fare</th>\n",
       "      <th>Cabin</th>\n",
       "      <th>Embarked</th>\n",
       "      <th>Counter</th>\n",
       "      <th>Family</th>\n",
       "      <th>isAlone</th>\n",
       "    </tr>\n",
       "    <tr>\n",
       "      <th></th>\n",
       "      <th>PassengerId</th>\n",
       "      <th></th>\n",
       "      <th></th>\n",
       "      <th></th>\n",
       "      <th></th>\n",
       "      <th></th>\n",
       "      <th></th>\n",
       "      <th></th>\n",
       "      <th></th>\n",
       "      <th></th>\n",
       "      <th></th>\n",
       "      <th></th>\n",
       "      <th></th>\n",
       "      <th></th>\n",
       "      <th></th>\n",
       "    </tr>\n",
       "  </thead>\n",
       "  <tbody>\n",
       "    <tr>\n",
       "      <th rowspan=\"10\" valign=\"top\">train</th>\n",
       "      <th>1</th>\n",
       "      <td>0.0</td>\n",
       "      <td>3</td>\n",
       "      <td>0.00</td>\n",
       "      <td>0.0</td>\n",
       "      <td>0.222222</td>\n",
       "      <td>1</td>\n",
       "      <td>0</td>\n",
       "      <td>A/5 21171</td>\n",
       "      <td>0.000000</td>\n",
       "      <td>0.000</td>\n",
       "      <td>S</td>\n",
       "      <td>1</td>\n",
       "      <td>0.25</td>\n",
       "      <td>0</td>\n",
       "    </tr>\n",
       "    <tr>\n",
       "      <th>2</th>\n",
       "      <td>1.0</td>\n",
       "      <td>1</td>\n",
       "      <td>0.50</td>\n",
       "      <td>1.0</td>\n",
       "      <td>0.444444</td>\n",
       "      <td>1</td>\n",
       "      <td>0</td>\n",
       "      <td>PC 17599</td>\n",
       "      <td>0.111111</td>\n",
       "      <td>0.125</td>\n",
       "      <td>C</td>\n",
       "      <td>1</td>\n",
       "      <td>0.25</td>\n",
       "      <td>0</td>\n",
       "    </tr>\n",
       "    <tr>\n",
       "      <th>3</th>\n",
       "      <td>1.0</td>\n",
       "      <td>3</td>\n",
       "      <td>0.25</td>\n",
       "      <td>1.0</td>\n",
       "      <td>0.333333</td>\n",
       "      <td>0</td>\n",
       "      <td>0</td>\n",
       "      <td>STON/O2. 3101282</td>\n",
       "      <td>0.000000</td>\n",
       "      <td>0.000</td>\n",
       "      <td>S</td>\n",
       "      <td>1</td>\n",
       "      <td>0.00</td>\n",
       "      <td>0</td>\n",
       "    </tr>\n",
       "    <tr>\n",
       "      <th>4</th>\n",
       "      <td>1.0</td>\n",
       "      <td>1</td>\n",
       "      <td>0.50</td>\n",
       "      <td>1.0</td>\n",
       "      <td>0.444444</td>\n",
       "      <td>1</td>\n",
       "      <td>0</td>\n",
       "      <td>113803</td>\n",
       "      <td>0.000000</td>\n",
       "      <td>0.125</td>\n",
       "      <td>S</td>\n",
       "      <td>1</td>\n",
       "      <td>0.25</td>\n",
       "      <td>0</td>\n",
       "    </tr>\n",
       "    <tr>\n",
       "      <th>5</th>\n",
       "      <td>0.0</td>\n",
       "      <td>3</td>\n",
       "      <td>0.00</td>\n",
       "      <td>0.0</td>\n",
       "      <td>0.444444</td>\n",
       "      <td>0</td>\n",
       "      <td>0</td>\n",
       "      <td>373450</td>\n",
       "      <td>0.000000</td>\n",
       "      <td>0.000</td>\n",
       "      <td>S</td>\n",
       "      <td>1</td>\n",
       "      <td>0.00</td>\n",
       "      <td>0</td>\n",
       "    </tr>\n",
       "    <tr>\n",
       "      <th>6</th>\n",
       "      <td>0.0</td>\n",
       "      <td>3</td>\n",
       "      <td>0.00</td>\n",
       "      <td>0.0</td>\n",
       "      <td>0.444444</td>\n",
       "      <td>0</td>\n",
       "      <td>0</td>\n",
       "      <td>330877</td>\n",
       "      <td>0.000000</td>\n",
       "      <td>0.000</td>\n",
       "      <td>Q</td>\n",
       "      <td>1</td>\n",
       "      <td>0.00</td>\n",
       "      <td>0</td>\n",
       "    </tr>\n",
       "    <tr>\n",
       "      <th>7</th>\n",
       "      <td>0.0</td>\n",
       "      <td>1</td>\n",
       "      <td>0.00</td>\n",
       "      <td>0.0</td>\n",
       "      <td>0.666667</td>\n",
       "      <td>0</td>\n",
       "      <td>0</td>\n",
       "      <td>17463</td>\n",
       "      <td>0.000000</td>\n",
       "      <td>0.500</td>\n",
       "      <td>S</td>\n",
       "      <td>1</td>\n",
       "      <td>0.00</td>\n",
       "      <td>0</td>\n",
       "    </tr>\n",
       "    <tr>\n",
       "      <th>8</th>\n",
       "      <td>0.0</td>\n",
       "      <td>3</td>\n",
       "      <td>0.75</td>\n",
       "      <td>0.0</td>\n",
       "      <td>0.000000</td>\n",
       "      <td>3</td>\n",
       "      <td>1</td>\n",
       "      <td>349909</td>\n",
       "      <td>0.000000</td>\n",
       "      <td>0.000</td>\n",
       "      <td>S</td>\n",
       "      <td>1</td>\n",
       "      <td>0.75</td>\n",
       "      <td>0</td>\n",
       "    </tr>\n",
       "    <tr>\n",
       "      <th>9</th>\n",
       "      <td>1.0</td>\n",
       "      <td>3</td>\n",
       "      <td>0.50</td>\n",
       "      <td>1.0</td>\n",
       "      <td>0.333333</td>\n",
       "      <td>0</td>\n",
       "      <td>2</td>\n",
       "      <td>347742</td>\n",
       "      <td>0.000000</td>\n",
       "      <td>0.000</td>\n",
       "      <td>S</td>\n",
       "      <td>1</td>\n",
       "      <td>0.25</td>\n",
       "      <td>0</td>\n",
       "    </tr>\n",
       "    <tr>\n",
       "      <th>10</th>\n",
       "      <td>1.0</td>\n",
       "      <td>2</td>\n",
       "      <td>0.50</td>\n",
       "      <td>1.0</td>\n",
       "      <td>0.111111</td>\n",
       "      <td>1</td>\n",
       "      <td>0</td>\n",
       "      <td>237736</td>\n",
       "      <td>0.000000</td>\n",
       "      <td>0.000</td>\n",
       "      <td>C</td>\n",
       "      <td>1</td>\n",
       "      <td>0.25</td>\n",
       "      <td>0</td>\n",
       "    </tr>\n",
       "  </tbody>\n",
       "</table>\n",
       "</div>"
      ],
      "text/plain": [
       "                   Survived  Pclass  Name  Sex       Age  SibSp  Parch  \\\n",
       "      PassengerId                                                        \n",
       "train 1                 0.0       3  0.00  0.0  0.222222      1      0   \n",
       "      2                 1.0       1  0.50  1.0  0.444444      1      0   \n",
       "      3                 1.0       3  0.25  1.0  0.333333      0      0   \n",
       "      4                 1.0       1  0.50  1.0  0.444444      1      0   \n",
       "      5                 0.0       3  0.00  0.0  0.444444      0      0   \n",
       "      6                 0.0       3  0.00  0.0  0.444444      0      0   \n",
       "      7                 0.0       1  0.00  0.0  0.666667      0      0   \n",
       "      8                 0.0       3  0.75  0.0  0.000000      3      1   \n",
       "      9                 1.0       3  0.50  1.0  0.333333      0      2   \n",
       "      10                1.0       2  0.50  1.0  0.111111      1      0   \n",
       "\n",
       "                             Ticket      Fare  Cabin Embarked  Counter  \\\n",
       "      PassengerId                                                        \n",
       "train 1                   A/5 21171  0.000000  0.000        S        1   \n",
       "      2                    PC 17599  0.111111  0.125        C        1   \n",
       "      3            STON/O2. 3101282  0.000000  0.000        S        1   \n",
       "      4                      113803  0.000000  0.125        S        1   \n",
       "      5                      373450  0.000000  0.000        S        1   \n",
       "      6                      330877  0.000000  0.000        Q        1   \n",
       "      7                       17463  0.000000  0.500        S        1   \n",
       "      8                      349909  0.000000  0.000        S        1   \n",
       "      9                      347742  0.000000  0.000        S        1   \n",
       "      10                     237736  0.000000  0.000        C        1   \n",
       "\n",
       "                   Family  isAlone  \n",
       "      PassengerId                   \n",
       "train 1              0.25        0  \n",
       "      2              0.25        0  \n",
       "      3              0.00        0  \n",
       "      4              0.25        0  \n",
       "      5              0.00        0  \n",
       "      6              0.00        0  \n",
       "      7              0.00        0  \n",
       "      8              0.75        0  \n",
       "      9              0.25        0  \n",
       "      10             0.25        0  "
      ]
     },
     "execution_count": 184,
     "metadata": {},
     "output_type": "execute_result"
    }
   ],
   "source": [
    "all_data.head(10)"
   ]
  },
  {
   "cell_type": "markdown",
   "metadata": {},
   "source": [
    "### <b><font color='green'>\"Embarked\"</font> field processing</b>"
   ]
  },
  {
   "cell_type": "code",
   "execution_count": 185,
   "metadata": {},
   "outputs": [
    {
     "data": {
      "text/plain": [
       "S    914\n",
       "C    270\n",
       "Q    123\n",
       "Name: Embarked, dtype: int64"
      ]
     },
     "execution_count": 185,
     "metadata": {},
     "output_type": "execute_result"
    }
   ],
   "source": [
    "# count_empty values\n",
    "all_data['Embarked'].value_counts()"
   ]
  },
  {
   "cell_type": "code",
   "execution_count": 186,
   "metadata": {},
   "outputs": [],
   "source": [
    "# replace empty values\n",
    "all_data['Embarked'].fillna('N', inplace=True)"
   ]
  },
  {
   "cell_type": "code",
   "execution_count": 187,
   "metadata": {},
   "outputs": [
    {
     "data": {
      "text/html": [
       "<div>\n",
       "<style scoped>\n",
       "    .dataframe tbody tr th:only-of-type {\n",
       "        vertical-align: middle;\n",
       "    }\n",
       "\n",
       "    .dataframe tbody tr th {\n",
       "        vertical-align: top;\n",
       "    }\n",
       "\n",
       "    .dataframe thead th {\n",
       "        text-align: right;\n",
       "    }\n",
       "</style>\n",
       "<table border=\"1\" class=\"dataframe\">\n",
       "  <thead>\n",
       "    <tr style=\"text-align: right;\">\n",
       "      <th></th>\n",
       "      <th>Embarked</th>\n",
       "      <th>Survived</th>\n",
       "      <th>Counter</th>\n",
       "    </tr>\n",
       "  </thead>\n",
       "  <tbody>\n",
       "    <tr>\n",
       "      <th>0</th>\n",
       "      <td>S</td>\n",
       "      <td>0.336957</td>\n",
       "      <td>914</td>\n",
       "    </tr>\n",
       "    <tr>\n",
       "      <th>1</th>\n",
       "      <td>C</td>\n",
       "      <td>0.553571</td>\n",
       "      <td>270</td>\n",
       "    </tr>\n",
       "    <tr>\n",
       "      <th>2</th>\n",
       "      <td>Q</td>\n",
       "      <td>0.389610</td>\n",
       "      <td>123</td>\n",
       "    </tr>\n",
       "    <tr>\n",
       "      <th>3</th>\n",
       "      <td>N</td>\n",
       "      <td>1.000000</td>\n",
       "      <td>2</td>\n",
       "    </tr>\n",
       "  </tbody>\n",
       "</table>\n",
       "</div>"
      ],
      "text/plain": [
       "  Embarked  Survived  Counter\n",
       "0        S  0.336957      914\n",
       "1        C  0.553571      270\n",
       "2        Q  0.389610      123\n",
       "3        N  1.000000        2"
      ]
     },
     "execution_count": 187,
     "metadata": {},
     "output_type": "execute_result"
    }
   ],
   "source": [
    "embarked = all_data.groupby(['Embarked'])['Survived', 'Counter'].agg({'Survived': np.mean, 'Counter': np.sum}).sort_values(by=['Counter'], ascending=[0]).reset_index()\n",
    "embarked"
   ]
  },
  {
   "cell_type": "code",
   "execution_count": 188,
   "metadata": {},
   "outputs": [],
   "source": [
    "# string to numeric field \"Embarked\"\n",
    "if not np.issubdtype(all_data['Embarked'].dtype, np.number):\n",
    "    all_data['Embarked'] = all_data['Embarked'].map(dict(zip(embarked['Embarked'].values, embarked.index.values))).astype(float)"
   ]
  },
  {
   "cell_type": "code",
   "execution_count": 189,
   "metadata": {},
   "outputs": [
    {
     "data": {
      "text/plain": [
       "0.000000    914\n",
       "0.333333    270\n",
       "0.666667    123\n",
       "1.000000      2\n",
       "Name: Embarked, dtype: int64"
      ]
     },
     "execution_count": 189,
     "metadata": {},
     "output_type": "execute_result"
    }
   ],
   "source": [
    "# normalize field 'Cabin'\n",
    "scaler = MinMaxScaler()\n",
    "all_data['Embarked'] = scaler.fit_transform(all_data[['Embarked']])\n",
    "all_data['Embarked'].value_counts()"
   ]
  },
  {
   "cell_type": "markdown",
   "metadata": {},
   "source": [
    "### <b><font color='green'>\"Pclass\"</font> field processing</b>"
   ]
  },
  {
   "cell_type": "code",
   "execution_count": 190,
   "metadata": {},
   "outputs": [
    {
     "data": {
      "text/plain": [
       "1.0    709\n",
       "0.0    323\n",
       "0.5    277\n",
       "Name: Pclass, dtype: int64"
      ]
     },
     "execution_count": 190,
     "metadata": {},
     "output_type": "execute_result"
    }
   ],
   "source": [
    "# normalize field 'Pclass'\n",
    "scaler = MinMaxScaler()\n",
    "all_data['Pclass'] = scaler.fit_transform(all_data[['Pclass']].astype(float))\n",
    "all_data['Pclass'].value_counts()"
   ]
  },
  {
   "cell_type": "markdown",
   "metadata": {},
   "source": [
    "### <b><font color='green'>\"Ticket\"</font> field processing</b>"
   ]
  },
  {
   "cell_type": "code",
   "execution_count": 191,
   "metadata": {},
   "outputs": [
    {
     "data": {
      "text/html": [
       "<div>\n",
       "<style scoped>\n",
       "    .dataframe tbody tr th:only-of-type {\n",
       "        vertical-align: middle;\n",
       "    }\n",
       "\n",
       "    .dataframe tbody tr th {\n",
       "        vertical-align: top;\n",
       "    }\n",
       "\n",
       "    .dataframe thead th {\n",
       "        text-align: right;\n",
       "    }\n",
       "</style>\n",
       "<table border=\"1\" class=\"dataframe\">\n",
       "  <thead>\n",
       "    <tr style=\"text-align: right;\">\n",
       "      <th></th>\n",
       "      <th>Survived</th>\n",
       "      <th>Counter</th>\n",
       "    </tr>\n",
       "    <tr>\n",
       "      <th>Ticket</th>\n",
       "      <th></th>\n",
       "      <th></th>\n",
       "    </tr>\n",
       "  </thead>\n",
       "  <tbody>\n",
       "    <tr>\n",
       "      <th>0.000000</th>\n",
       "      <td>0.327517</td>\n",
       "      <td>1088</td>\n",
       "    </tr>\n",
       "    <tr>\n",
       "      <th>0.111111</th>\n",
       "      <td>0.634409</td>\n",
       "      <td>137</td>\n",
       "    </tr>\n",
       "    <tr>\n",
       "      <th>0.222222</th>\n",
       "      <td>0.741935</td>\n",
       "      <td>42</td>\n",
       "    </tr>\n",
       "    <tr>\n",
       "      <th>0.333333</th>\n",
       "      <td>1.000000</td>\n",
       "      <td>4</td>\n",
       "    </tr>\n",
       "    <tr>\n",
       "      <th>0.444444</th>\n",
       "      <td>0.636364</td>\n",
       "      <td>21</td>\n",
       "    </tr>\n",
       "    <tr>\n",
       "      <th>0.555556</th>\n",
       "      <td>0.666667</td>\n",
       "      <td>13</td>\n",
       "    </tr>\n",
       "    <tr>\n",
       "      <th>1.000000</th>\n",
       "      <td>1.000000</td>\n",
       "      <td>4</td>\n",
       "    </tr>\n",
       "  </tbody>\n",
       "</table>\n",
       "</div>"
      ],
      "text/plain": [
       "          Survived  Counter\n",
       "Ticket                     \n",
       "0.000000  0.327517     1088\n",
       "0.111111  0.634409      137\n",
       "0.222222  0.741935       42\n",
       "0.333333  1.000000        4\n",
       "0.444444  0.636364       21\n",
       "0.555556  0.666667       13\n",
       "1.000000  1.000000        4"
      ]
     },
     "execution_count": 191,
     "metadata": {},
     "output_type": "execute_result"
    }
   ],
   "source": [
    "\n",
    "all_data['Ticket'] = all_data['Ticket'].apply(lambda x: len(x) if isinstance(x, str) else x)\n",
    "all_data['Ticket'] = pd.cut(all_data['Fare'], bins=10, labels=False).astype('float')\n",
    "\n",
    "scaler = MinMaxScaler()\n",
    "all_data['Ticket'] = scaler.fit_transform(all_data[['Ticket']].astype(float))\n",
    "all_data['Ticket'].value_counts()\n",
    "\n",
    "all_data.groupby(['Ticket'])['Survived', 'Counter'].agg({'Survived': 'mean', 'Counter': 'sum'})\n"
   ]
  },
  {
   "cell_type": "markdown",
   "metadata": {},
   "source": [
    "### <b>Select fields for machine learning</b>"
   ]
  },
  {
   "cell_type": "code",
   "execution_count": 192,
   "metadata": {},
   "outputs": [
    {
     "data": {
      "text/html": [
       "<div>\n",
       "<style scoped>\n",
       "    .dataframe tbody tr th:only-of-type {\n",
       "        vertical-align: middle;\n",
       "    }\n",
       "\n",
       "    .dataframe tbody tr th {\n",
       "        vertical-align: top;\n",
       "    }\n",
       "\n",
       "    .dataframe thead th {\n",
       "        text-align: right;\n",
       "    }\n",
       "</style>\n",
       "<table border=\"1\" class=\"dataframe\">\n",
       "  <thead>\n",
       "    <tr style=\"text-align: right;\">\n",
       "      <th></th>\n",
       "      <th></th>\n",
       "      <th>Survived</th>\n",
       "      <th>Pclass</th>\n",
       "      <th>Name</th>\n",
       "      <th>Sex</th>\n",
       "      <th>Age</th>\n",
       "      <th>SibSp</th>\n",
       "      <th>Parch</th>\n",
       "      <th>Ticket</th>\n",
       "      <th>Fare</th>\n",
       "      <th>Cabin</th>\n",
       "      <th>Embarked</th>\n",
       "      <th>Counter</th>\n",
       "      <th>Family</th>\n",
       "      <th>isAlone</th>\n",
       "    </tr>\n",
       "    <tr>\n",
       "      <th></th>\n",
       "      <th>PassengerId</th>\n",
       "      <th></th>\n",
       "      <th></th>\n",
       "      <th></th>\n",
       "      <th></th>\n",
       "      <th></th>\n",
       "      <th></th>\n",
       "      <th></th>\n",
       "      <th></th>\n",
       "      <th></th>\n",
       "      <th></th>\n",
       "      <th></th>\n",
       "      <th></th>\n",
       "      <th></th>\n",
       "      <th></th>\n",
       "    </tr>\n",
       "  </thead>\n",
       "  <tbody>\n",
       "    <tr>\n",
       "      <th rowspan=\"10\" valign=\"top\">train</th>\n",
       "      <th>1</th>\n",
       "      <td>0.0</td>\n",
       "      <td>1.0</td>\n",
       "      <td>0.00</td>\n",
       "      <td>0.0</td>\n",
       "      <td>0.222222</td>\n",
       "      <td>1</td>\n",
       "      <td>0</td>\n",
       "      <td>0.000000</td>\n",
       "      <td>0.000000</td>\n",
       "      <td>0.000</td>\n",
       "      <td>0.000000</td>\n",
       "      <td>1</td>\n",
       "      <td>0.25</td>\n",
       "      <td>0</td>\n",
       "    </tr>\n",
       "    <tr>\n",
       "      <th>2</th>\n",
       "      <td>1.0</td>\n",
       "      <td>0.0</td>\n",
       "      <td>0.50</td>\n",
       "      <td>1.0</td>\n",
       "      <td>0.444444</td>\n",
       "      <td>1</td>\n",
       "      <td>0</td>\n",
       "      <td>0.111111</td>\n",
       "      <td>0.111111</td>\n",
       "      <td>0.125</td>\n",
       "      <td>0.333333</td>\n",
       "      <td>1</td>\n",
       "      <td>0.25</td>\n",
       "      <td>0</td>\n",
       "    </tr>\n",
       "    <tr>\n",
       "      <th>3</th>\n",
       "      <td>1.0</td>\n",
       "      <td>1.0</td>\n",
       "      <td>0.25</td>\n",
       "      <td>1.0</td>\n",
       "      <td>0.333333</td>\n",
       "      <td>0</td>\n",
       "      <td>0</td>\n",
       "      <td>0.000000</td>\n",
       "      <td>0.000000</td>\n",
       "      <td>0.000</td>\n",
       "      <td>0.000000</td>\n",
       "      <td>1</td>\n",
       "      <td>0.00</td>\n",
       "      <td>0</td>\n",
       "    </tr>\n",
       "    <tr>\n",
       "      <th>4</th>\n",
       "      <td>1.0</td>\n",
       "      <td>0.0</td>\n",
       "      <td>0.50</td>\n",
       "      <td>1.0</td>\n",
       "      <td>0.444444</td>\n",
       "      <td>1</td>\n",
       "      <td>0</td>\n",
       "      <td>0.000000</td>\n",
       "      <td>0.000000</td>\n",
       "      <td>0.125</td>\n",
       "      <td>0.000000</td>\n",
       "      <td>1</td>\n",
       "      <td>0.25</td>\n",
       "      <td>0</td>\n",
       "    </tr>\n",
       "    <tr>\n",
       "      <th>5</th>\n",
       "      <td>0.0</td>\n",
       "      <td>1.0</td>\n",
       "      <td>0.00</td>\n",
       "      <td>0.0</td>\n",
       "      <td>0.444444</td>\n",
       "      <td>0</td>\n",
       "      <td>0</td>\n",
       "      <td>0.000000</td>\n",
       "      <td>0.000000</td>\n",
       "      <td>0.000</td>\n",
       "      <td>0.000000</td>\n",
       "      <td>1</td>\n",
       "      <td>0.00</td>\n",
       "      <td>0</td>\n",
       "    </tr>\n",
       "    <tr>\n",
       "      <th>6</th>\n",
       "      <td>0.0</td>\n",
       "      <td>1.0</td>\n",
       "      <td>0.00</td>\n",
       "      <td>0.0</td>\n",
       "      <td>0.444444</td>\n",
       "      <td>0</td>\n",
       "      <td>0</td>\n",
       "      <td>0.000000</td>\n",
       "      <td>0.000000</td>\n",
       "      <td>0.000</td>\n",
       "      <td>0.666667</td>\n",
       "      <td>1</td>\n",
       "      <td>0.00</td>\n",
       "      <td>0</td>\n",
       "    </tr>\n",
       "    <tr>\n",
       "      <th>7</th>\n",
       "      <td>0.0</td>\n",
       "      <td>0.0</td>\n",
       "      <td>0.00</td>\n",
       "      <td>0.0</td>\n",
       "      <td>0.666667</td>\n",
       "      <td>0</td>\n",
       "      <td>0</td>\n",
       "      <td>0.000000</td>\n",
       "      <td>0.000000</td>\n",
       "      <td>0.500</td>\n",
       "      <td>0.000000</td>\n",
       "      <td>1</td>\n",
       "      <td>0.00</td>\n",
       "      <td>0</td>\n",
       "    </tr>\n",
       "    <tr>\n",
       "      <th>8</th>\n",
       "      <td>0.0</td>\n",
       "      <td>1.0</td>\n",
       "      <td>0.75</td>\n",
       "      <td>0.0</td>\n",
       "      <td>0.000000</td>\n",
       "      <td>3</td>\n",
       "      <td>1</td>\n",
       "      <td>0.000000</td>\n",
       "      <td>0.000000</td>\n",
       "      <td>0.000</td>\n",
       "      <td>0.000000</td>\n",
       "      <td>1</td>\n",
       "      <td>0.75</td>\n",
       "      <td>0</td>\n",
       "    </tr>\n",
       "    <tr>\n",
       "      <th>9</th>\n",
       "      <td>1.0</td>\n",
       "      <td>1.0</td>\n",
       "      <td>0.50</td>\n",
       "      <td>1.0</td>\n",
       "      <td>0.333333</td>\n",
       "      <td>0</td>\n",
       "      <td>2</td>\n",
       "      <td>0.000000</td>\n",
       "      <td>0.000000</td>\n",
       "      <td>0.000</td>\n",
       "      <td>0.000000</td>\n",
       "      <td>1</td>\n",
       "      <td>0.25</td>\n",
       "      <td>0</td>\n",
       "    </tr>\n",
       "    <tr>\n",
       "      <th>10</th>\n",
       "      <td>1.0</td>\n",
       "      <td>0.5</td>\n",
       "      <td>0.50</td>\n",
       "      <td>1.0</td>\n",
       "      <td>0.111111</td>\n",
       "      <td>1</td>\n",
       "      <td>0</td>\n",
       "      <td>0.000000</td>\n",
       "      <td>0.000000</td>\n",
       "      <td>0.000</td>\n",
       "      <td>0.333333</td>\n",
       "      <td>1</td>\n",
       "      <td>0.25</td>\n",
       "      <td>0</td>\n",
       "    </tr>\n",
       "  </tbody>\n",
       "</table>\n",
       "</div>"
      ],
      "text/plain": [
       "                   Survived  Pclass  Name  Sex       Age  SibSp  Parch  \\\n",
       "      PassengerId                                                        \n",
       "train 1                 0.0     1.0  0.00  0.0  0.222222      1      0   \n",
       "      2                 1.0     0.0  0.50  1.0  0.444444      1      0   \n",
       "      3                 1.0     1.0  0.25  1.0  0.333333      0      0   \n",
       "      4                 1.0     0.0  0.50  1.0  0.444444      1      0   \n",
       "      5                 0.0     1.0  0.00  0.0  0.444444      0      0   \n",
       "      6                 0.0     1.0  0.00  0.0  0.444444      0      0   \n",
       "      7                 0.0     0.0  0.00  0.0  0.666667      0      0   \n",
       "      8                 0.0     1.0  0.75  0.0  0.000000      3      1   \n",
       "      9                 1.0     1.0  0.50  1.0  0.333333      0      2   \n",
       "      10                1.0     0.5  0.50  1.0  0.111111      1      0   \n",
       "\n",
       "                     Ticket      Fare  Cabin  Embarked  Counter  Family  \\\n",
       "      PassengerId                                                         \n",
       "train 1            0.000000  0.000000  0.000  0.000000        1    0.25   \n",
       "      2            0.111111  0.111111  0.125  0.333333        1    0.25   \n",
       "      3            0.000000  0.000000  0.000  0.000000        1    0.00   \n",
       "      4            0.000000  0.000000  0.125  0.000000        1    0.25   \n",
       "      5            0.000000  0.000000  0.000  0.000000        1    0.00   \n",
       "      6            0.000000  0.000000  0.000  0.666667        1    0.00   \n",
       "      7            0.000000  0.000000  0.500  0.000000        1    0.00   \n",
       "      8            0.000000  0.000000  0.000  0.000000        1    0.75   \n",
       "      9            0.000000  0.000000  0.000  0.000000        1    0.25   \n",
       "      10           0.000000  0.000000  0.000  0.333333        1    0.25   \n",
       "\n",
       "                   isAlone  \n",
       "      PassengerId           \n",
       "train 1                  0  \n",
       "      2                  0  \n",
       "      3                  0  \n",
       "      4                  0  \n",
       "      5                  0  \n",
       "      6                  0  \n",
       "      7                  0  \n",
       "      8                  0  \n",
       "      9                  0  \n",
       "      10                 0  "
      ]
     },
     "execution_count": 192,
     "metadata": {},
     "output_type": "execute_result"
    }
   ],
   "source": [
    "# let's look at the processing result \"all_data\"\n",
    "all_data.head(10)"
   ]
  },
  {
   "cell_type": "code",
   "execution_count": 193,
   "metadata": {},
   "outputs": [
    {
     "data": {
      "text/html": [
       "<div>\n",
       "<style scoped>\n",
       "    .dataframe tbody tr th:only-of-type {\n",
       "        vertical-align: middle;\n",
       "    }\n",
       "\n",
       "    .dataframe tbody tr th {\n",
       "        vertical-align: top;\n",
       "    }\n",
       "\n",
       "    .dataframe thead th {\n",
       "        text-align: right;\n",
       "    }\n",
       "</style>\n",
       "<table border=\"1\" class=\"dataframe\">\n",
       "  <thead>\n",
       "    <tr style=\"text-align: right;\">\n",
       "      <th></th>\n",
       "      <th></th>\n",
       "      <th>Survived</th>\n",
       "      <th>Pclass</th>\n",
       "      <th>Name</th>\n",
       "      <th>Sex</th>\n",
       "      <th>Age</th>\n",
       "      <th>Fare</th>\n",
       "      <th>Cabin</th>\n",
       "      <th>Embarked</th>\n",
       "      <th>Family</th>\n",
       "      <th>isAlone</th>\n",
       "      <th>Ticket</th>\n",
       "    </tr>\n",
       "    <tr>\n",
       "      <th></th>\n",
       "      <th>PassengerId</th>\n",
       "      <th></th>\n",
       "      <th></th>\n",
       "      <th></th>\n",
       "      <th></th>\n",
       "      <th></th>\n",
       "      <th></th>\n",
       "      <th></th>\n",
       "      <th></th>\n",
       "      <th></th>\n",
       "      <th></th>\n",
       "      <th></th>\n",
       "    </tr>\n",
       "  </thead>\n",
       "  <tbody>\n",
       "    <tr>\n",
       "      <th rowspan=\"10\" valign=\"top\">train</th>\n",
       "      <th>1</th>\n",
       "      <td>0.0</td>\n",
       "      <td>1.0</td>\n",
       "      <td>0.00</td>\n",
       "      <td>0.0</td>\n",
       "      <td>0.222222</td>\n",
       "      <td>0.000000</td>\n",
       "      <td>0.000</td>\n",
       "      <td>0.000000</td>\n",
       "      <td>0.25</td>\n",
       "      <td>0</td>\n",
       "      <td>0.000000</td>\n",
       "    </tr>\n",
       "    <tr>\n",
       "      <th>2</th>\n",
       "      <td>1.0</td>\n",
       "      <td>0.0</td>\n",
       "      <td>0.50</td>\n",
       "      <td>1.0</td>\n",
       "      <td>0.444444</td>\n",
       "      <td>0.111111</td>\n",
       "      <td>0.125</td>\n",
       "      <td>0.333333</td>\n",
       "      <td>0.25</td>\n",
       "      <td>0</td>\n",
       "      <td>0.111111</td>\n",
       "    </tr>\n",
       "    <tr>\n",
       "      <th>3</th>\n",
       "      <td>1.0</td>\n",
       "      <td>1.0</td>\n",
       "      <td>0.25</td>\n",
       "      <td>1.0</td>\n",
       "      <td>0.333333</td>\n",
       "      <td>0.000000</td>\n",
       "      <td>0.000</td>\n",
       "      <td>0.000000</td>\n",
       "      <td>0.00</td>\n",
       "      <td>0</td>\n",
       "      <td>0.000000</td>\n",
       "    </tr>\n",
       "    <tr>\n",
       "      <th>4</th>\n",
       "      <td>1.0</td>\n",
       "      <td>0.0</td>\n",
       "      <td>0.50</td>\n",
       "      <td>1.0</td>\n",
       "      <td>0.444444</td>\n",
       "      <td>0.000000</td>\n",
       "      <td>0.125</td>\n",
       "      <td>0.000000</td>\n",
       "      <td>0.25</td>\n",
       "      <td>0</td>\n",
       "      <td>0.000000</td>\n",
       "    </tr>\n",
       "    <tr>\n",
       "      <th>5</th>\n",
       "      <td>0.0</td>\n",
       "      <td>1.0</td>\n",
       "      <td>0.00</td>\n",
       "      <td>0.0</td>\n",
       "      <td>0.444444</td>\n",
       "      <td>0.000000</td>\n",
       "      <td>0.000</td>\n",
       "      <td>0.000000</td>\n",
       "      <td>0.00</td>\n",
       "      <td>0</td>\n",
       "      <td>0.000000</td>\n",
       "    </tr>\n",
       "    <tr>\n",
       "      <th>6</th>\n",
       "      <td>0.0</td>\n",
       "      <td>1.0</td>\n",
       "      <td>0.00</td>\n",
       "      <td>0.0</td>\n",
       "      <td>0.444444</td>\n",
       "      <td>0.000000</td>\n",
       "      <td>0.000</td>\n",
       "      <td>0.666667</td>\n",
       "      <td>0.00</td>\n",
       "      <td>0</td>\n",
       "      <td>0.000000</td>\n",
       "    </tr>\n",
       "    <tr>\n",
       "      <th>7</th>\n",
       "      <td>0.0</td>\n",
       "      <td>0.0</td>\n",
       "      <td>0.00</td>\n",
       "      <td>0.0</td>\n",
       "      <td>0.666667</td>\n",
       "      <td>0.000000</td>\n",
       "      <td>0.500</td>\n",
       "      <td>0.000000</td>\n",
       "      <td>0.00</td>\n",
       "      <td>0</td>\n",
       "      <td>0.000000</td>\n",
       "    </tr>\n",
       "    <tr>\n",
       "      <th>8</th>\n",
       "      <td>0.0</td>\n",
       "      <td>1.0</td>\n",
       "      <td>0.75</td>\n",
       "      <td>0.0</td>\n",
       "      <td>0.000000</td>\n",
       "      <td>0.000000</td>\n",
       "      <td>0.000</td>\n",
       "      <td>0.000000</td>\n",
       "      <td>0.75</td>\n",
       "      <td>0</td>\n",
       "      <td>0.000000</td>\n",
       "    </tr>\n",
       "    <tr>\n",
       "      <th>9</th>\n",
       "      <td>1.0</td>\n",
       "      <td>1.0</td>\n",
       "      <td>0.50</td>\n",
       "      <td>1.0</td>\n",
       "      <td>0.333333</td>\n",
       "      <td>0.000000</td>\n",
       "      <td>0.000</td>\n",
       "      <td>0.000000</td>\n",
       "      <td>0.25</td>\n",
       "      <td>0</td>\n",
       "      <td>0.000000</td>\n",
       "    </tr>\n",
       "    <tr>\n",
       "      <th>10</th>\n",
       "      <td>1.0</td>\n",
       "      <td>0.5</td>\n",
       "      <td>0.50</td>\n",
       "      <td>1.0</td>\n",
       "      <td>0.111111</td>\n",
       "      <td>0.000000</td>\n",
       "      <td>0.000</td>\n",
       "      <td>0.333333</td>\n",
       "      <td>0.25</td>\n",
       "      <td>0</td>\n",
       "      <td>0.000000</td>\n",
       "    </tr>\n",
       "  </tbody>\n",
       "</table>\n",
       "</div>"
      ],
      "text/plain": [
       "                   Survived  Pclass  Name  Sex       Age      Fare  Cabin  \\\n",
       "      PassengerId                                                           \n",
       "train 1                 0.0     1.0  0.00  0.0  0.222222  0.000000  0.000   \n",
       "      2                 1.0     0.0  0.50  1.0  0.444444  0.111111  0.125   \n",
       "      3                 1.0     1.0  0.25  1.0  0.333333  0.000000  0.000   \n",
       "      4                 1.0     0.0  0.50  1.0  0.444444  0.000000  0.125   \n",
       "      5                 0.0     1.0  0.00  0.0  0.444444  0.000000  0.000   \n",
       "      6                 0.0     1.0  0.00  0.0  0.444444  0.000000  0.000   \n",
       "      7                 0.0     0.0  0.00  0.0  0.666667  0.000000  0.500   \n",
       "      8                 0.0     1.0  0.75  0.0  0.000000  0.000000  0.000   \n",
       "      9                 1.0     1.0  0.50  1.0  0.333333  0.000000  0.000   \n",
       "      10                1.0     0.5  0.50  1.0  0.111111  0.000000  0.000   \n",
       "\n",
       "                   Embarked  Family  isAlone    Ticket  \n",
       "      PassengerId                                       \n",
       "train 1            0.000000    0.25        0  0.000000  \n",
       "      2            0.333333    0.25        0  0.111111  \n",
       "      3            0.000000    0.00        0  0.000000  \n",
       "      4            0.000000    0.25        0  0.000000  \n",
       "      5            0.000000    0.00        0  0.000000  \n",
       "      6            0.666667    0.00        0  0.000000  \n",
       "      7            0.000000    0.00        0  0.000000  \n",
       "      8            0.000000    0.75        0  0.000000  \n",
       "      9            0.000000    0.25        0  0.000000  \n",
       "      10           0.333333    0.25        0  0.000000  "
      ]
     },
     "execution_count": 193,
     "metadata": {},
     "output_type": "execute_result"
    }
   ],
   "source": [
    "# very nice. Select fields for ML\n",
    "data_for_ml = all_data[['Survived', 'Pclass', 'Name', 'Sex', 'Age', 'Fare', 'Cabin', 'Embarked', 'Family', 'isAlone', 'Ticket']]\n",
    "data_for_ml.head(10)"
   ]
  },
  {
   "cell_type": "code",
   "execution_count": 194,
   "metadata": {},
   "outputs": [
    {
     "name": "stdout",
     "output_type": "stream",
     "text": [
      "size train data: (891, 10)\n",
      "size train labels: (891,)\n",
      "size finish test data: (418, 10)\n"
     ]
    }
   ],
   "source": [
    "# split dataset train data and test data for ML\n",
    "\n",
    "X_model = data_for_ml.loc['train'].drop('Survived', axis=1).select_dtypes(include=[np.number])\n",
    "y_model = data_for_ml.loc['train']['Survived']\n",
    "\n",
    "Y_finish = data_for_ml.loc['test'].drop('Survived', axis=1).select_dtypes(include=[np.number])\n",
    "\n",
    "print('size train data:', X_model.shape)\n",
    "print('size train labels:', y_model.shape)\n",
    "print('size finish test data:', Y_finish.shape)"
   ]
  },
  {
   "cell_type": "markdown",
   "metadata": {},
   "source": [
    "## <b><font color='3C89F9'>2. Machine Learning</font></b>"
   ]
  },
  {
   "cell_type": "markdown",
   "metadata": {},
   "source": [
    "### <i><font color='black'> simple Neural Network</font></i>"
   ]
  },
  {
   "cell_type": "code",
   "execution_count": 195,
   "metadata": {},
   "outputs": [],
   "source": [
    "import sklearn.datasets\n",
    "from sklearn.model_selection import train_test_split"
   ]
  },
  {
   "cell_type": "code",
   "execution_count": 196,
   "metadata": {},
   "outputs": [
    {
     "name": "stdout",
     "output_type": "stream",
     "text": [
      "mean scores: 0.818166701294504\n"
     ]
    },
    {
     "data": {
      "text/plain": [
       "MLPClassifier(activation='relu', alpha=0.01, batch_size=10, beta_1=0.9,\n",
       "       beta_2=0.999, early_stopping=False, epsilon=1e-08,\n",
       "       hidden_layer_sizes=[10], learning_rate='constant',\n",
       "       learning_rate_init=0.001, max_iter=1000, momentum=0.9,\n",
       "       n_iter_no_change=10, nesterovs_momentum=True, power_t=0.5,\n",
       "       random_state=0, shuffle=True, solver='sgd', tol=0.0001,\n",
       "       validation_fraction=0.1, verbose=False, warm_start=False)"
      ]
     },
     "execution_count": 196,
     "metadata": {},
     "output_type": "execute_result"
    },
    {
     "data": {
      "image/png": "[encoded data removed]",
      "text/plain": [
       "<Figure size 432x288 with 1 Axes>"
      ]
     },
     "metadata": {
      "needs_background": "light"
     },
     "output_type": "display_data"
    }
   ],
   "source": [
    "# cross-validation K blocks\n",
    "\n",
    "from sklearn.neural_network import MLPClassifier\n",
    "from sklearn.model_selection import cross_val_score\n",
    "\n",
    "model = MLPClassifier(solver='sgd',\n",
    "                      random_state=0,\n",
    "                      max_iter=1000,\n",
    "                      batch_size=10,\n",
    "                      learning_rate_init=0.001,\n",
    "                      alpha=0.01,\n",
    "                      hidden_layer_sizes=[10],\n",
    "                      activation='relu')\n",
    "scores = cross_val_score(model, X_model.values, y_model.values, cv=4)\n",
    "plt.plot(scores)\n",
    "print('mean scores:', np.mean(scores))\n",
    "model"
   ]
  },
  {
   "cell_type": "code",
   "execution_count": 197,
   "metadata": {},
   "outputs": [],
   "source": [
    "# save CSV result\n",
    "\n",
    "model.fit(X_model, y_model)\n",
    "out = model.predict(Y_finish).T.astype('int')\n",
    "\n",
    "df_out = pd.DataFrame(data=out, index=Y_finish.index).reset_index()\n",
    "df_out.columns = ['PassengerId', 'Survived']\n",
    "df_out.to_csv('submission_nn.csv', index=False, sep=',')"
   ]
  },
  {
   "cell_type": "markdown",
   "metadata": {},
   "source": [
    "### <i><font color='black'>XGBoost</font></i>"
   ]
  },
  {
   "cell_type": "code",
   "execution_count": 209,
   "metadata": {},
   "outputs": [],
   "source": [
    "from xgboost import XGBClassifier"
   ]
  },
  {
   "cell_type": "code",
   "execution_count": 210,
   "metadata": {},
   "outputs": [],
   "source": [
    "# XGBClassifier model\n",
    "xgb = XGBClassifier(n_estimators=100, max_depth=3)"
   ]
  },
  {
   "cell_type": "code",
   "execution_count": 211,
   "metadata": {},
   "outputs": [
    {
     "name": "stdout",
     "output_type": "stream",
     "text": [
      "[0.805 0.845 0.855]\n"
     ]
    },
    {
     "data": {
      "image/png": "[encoded data removed]",
      "text/plain": [
       "<Figure size 432x288 with 1 Axes>"
      ]
     },
     "metadata": {
      "needs_background": "light"
     },
     "output_type": "display_data"
    }
   ],
   "source": [
    "# cross k validation\n",
    "scores = cross_val_score(xgb, X_model.values, y_model.values, cv=3)\n",
    "plt.plot(scores)\n",
    "print(np.round(scores, 3))"
   ]
  },
  {
   "cell_type": "code",
   "execution_count": 212,
   "metadata": {},
   "outputs": [],
   "source": [
    "# save CSV result\n",
    "\n",
    "xgb.fit(X_model, y_model)\n",
    "out = xgb.predict(Y_finish).T.astype('int')\n",
    "\n",
    "df_out = pd.DataFrame(data=out, index=Y_finish.index).reset_index()\n",
    "df_out.columns = ['PassengerId', 'Survived']\n",
    "df_out.to_csv('submission_xgb.csv', index=False, sep=',')"
   ]
  },
  {
   "cell_type": "markdown",
   "metadata": {},
   "source": [
    "### <i><font color='black'> Deep Neural Network from Keras</font></i>"
   ]
  },
  {
   "cell_type": "code",
   "execution_count": 353,
   "metadata": {},
   "outputs": [],
   "source": [
    "from keras import models\n",
    "from keras import layers\n",
    "from keras import regularizers\n",
    "from keras import optimizers\n",
    "\n",
    "def build_model(insh=10):\n",
    "    model = models.Sequential()\n",
    "    model.add(layers.Dense(insh, activation='relu'))\n",
    "    model.add(layers.Dense(insh, activation='linear'))\n",
    "    model.add(layers.Dense(1, activation='sigmoid'))\n",
    "    opt = optimizers.Adam(lr=0.0001, beta_1=0.9, beta_2=0.99, epsilon=None, decay=0.0, amsgrad=False)\n",
    "    model.compile(optimizer=opt, loss='binary_crossentropy', metrics=['accuracy'])\n",
    "    return model"
   ]
  },
  {
   "cell_type": "code",
   "execution_count": 354,
   "metadata": {},
   "outputs": [],
   "source": [
    "# split data train and test\n",
    "X_train, X_test, y_train, y_test = train_test_split(X_model, y_model, test_size=0.2)"
   ]
  },
  {
   "cell_type": "code",
   "execution_count": 355,
   "metadata": {},
   "outputs": [],
   "source": [
    "# fit NN model and show accurancy\n",
    "input_shape = X_train.shape[1]\n",
    "DL_model = None\n",
    "DL_model = build_model(insh=input_shape)\n",
    "\n",
    "history = DL_model.fit(X_train.values,\n",
    "                       y_train.values,\n",
    "                       epochs=80,\n",
    "                       verbose=0,\n",
    "                       batch_size=32,\n",
    "                       validation_data=(X_test.values, y_test.values))"
   ]
  },
  {
   "cell_type": "code",
   "execution_count": 356,
   "metadata": {},
   "outputs": [
    {
     "name": "stdout",
     "output_type": "stream",
     "text": [
      "179/179 [==============================] - 0s 90us/step\n"
     ]
    },
    {
     "data": {
      "text/plain": [
       "0.8100558672537351"
      ]
     },
     "execution_count": 356,
     "metadata": {},
     "output_type": "execute_result"
    }
   ],
   "source": [
    "# check scores model\n",
    "DL_model.evaluate(X_test.values, y_test.values)[1]"
   ]
  },
  {
   "cell_type": "code",
   "execution_count": 357,
   "metadata": {},
   "outputs": [
    {
     "data": {
      "image/png": "[encoded data removed]",
      "text/plain": [
       "<Figure size 1224x288 with 1 Axes>"
      ]
     },
     "metadata": {
      "needs_background": "light"
     },
     "output_type": "display_data"
    },
    {
     "data": {
      "image/png": "[encoded data removed]",
      "text/plain": [
       "<Figure size 1224x288 with 1 Axes>"
      ]
     },
     "metadata": {
      "needs_background": "light"
     },
     "output_type": "display_data"
    }
   ],
   "source": [
    "n = 3\n",
    "\n",
    "# Plot training & validation accuracy values\n",
    "plt.subplots(figsize=(17,4))\n",
    "plt.plot(history.history['acc'][n:])\n",
    "plt.plot(history.history['val_acc'][n:])\n",
    "plt.title('Model accuracy')\n",
    "plt.ylabel('Accuracy')\n",
    "plt.xlabel('Epoch')\n",
    "plt.legend(['Train', 'Test'], loc='upper left')\n",
    "plt.show()\n",
    "\n",
    "# Plot training & validation loss values\n",
    "plt.subplots(figsize=(17,4))\n",
    "plt.plot(history.history['loss'][n:])\n",
    "plt.plot(history.history['val_loss'][n:])\n",
    "plt.title('Model loss')\n",
    "plt.ylabel('Loss')\n",
    "plt.xlabel('Epoch')\n",
    "plt.legend(['Train', 'Test'], loc='upper left')\n",
    "plt.show()"
   ]
  },
  {
   "cell_type": "code",
   "execution_count": 359,
   "metadata": {},
   "outputs": [],
   "source": [
    "# kross k validation\n",
    "\n",
    "kfold = StratifiedKFold(n_splits=5)\n",
    "\n",
    "scores = []\n",
    "\n",
    "for i in range(3):\n",
    "    for train, test in kfold.split(X_model, y_model):\n",
    "        nn_model = None\n",
    "        nn_model = build_model(X_model.shape[1])\n",
    "        nn_model.fit(X_model.iloc[train].values,\n",
    "                     y_model.iloc[train].values,\n",
    "                     epochs=100,\n",
    "                     verbose=0)\n",
    "        acc = nn_model.evaluate(X_model.iloc[test].values, y_model.iloc[test].values, verbose=0)[1]\n",
    "        scores.append(acc)\n",
    "        print('accuracy step ' + str(len(scores)) + ': ', acc)"
   ]
  },
  {
   "cell_type": "code",
   "execution_count": 362,
   "metadata": {},
   "outputs": [
    {
     "data": {
      "text/plain": [
       "Int64Index([  1,   2,   3,   4,   5,   6,   7,   8,   9,  10,\n",
       "            ...\n",
       "            882, 883, 884, 885, 886, 887, 888, 889, 890, 891],\n",
       "           dtype='int64', name='PassengerId', length=891)"
      ]
     },
     "execution_count": 362,
     "metadata": {},
     "output_type": "execute_result"
    }
   ],
   "source": [
    "y_model.index"
   ]
  },
  {
   "cell_type": "code",
   "execution_count": 321,
   "metadata": {},
   "outputs": [
    {
     "name": "stdout",
     "output_type": "stream",
     "text": [
      "0.3708133971291866\n"
     ]
    }
   ],
   "source": [
    "# save CSV result\n",
    "\n",
    "nn_model = None\n",
    "nn_model = build_model()\n",
    "\n",
    "nn_model.fit(X_model.values,\n",
    "             y_model.values,\n",
    "             epochs=100,\n",
    "             batch_size=32,\n",
    "             verbose=0)\n",
    "\n",
    "out = nn_model.predict_classes(Y_finish.values)\n",
    "print(out.mean())\n",
    "\n",
    "df_out = pd.DataFrame(data=out, index=Y_finish.index).reset_index()\n",
    "df_out.columns = ['PassengerId', 'Survived']\n",
    "df_out.to_csv('submission_nn_keras.csv', index=False, sep=',')"
   ]
  },
  {
   "cell_type": "code",
   "execution_count": null,
   "metadata": {},
   "outputs": [],
   "source": []
  }
 ],
 "metadata": {
  "kernelspec": {
   "display_name": "Python 3",
   "language": "python",
   "name": "python3"
  },
  "language_info": {
   "codemirror_mode": {
    "name": "ipython",
    "version": 3
   },
   "file_extension": ".py",
   "mimetype": "text/x-python",
   "name": "python",
   "nbconvert_exporter": "python",
   "pygments_lexer": "ipython3",
   "version": "3.7.1"
  }
 },
 "nbformat": 4,
 "nbformat_minor": 2
}
