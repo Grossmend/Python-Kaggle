{
 "cells": [
  {
   "cell_type": "markdown",
   "metadata": {},
   "source": [
    "## Подготовка данных"
   ]
  },
  {
   "cell_type": "code",
   "execution_count": 135,
   "metadata": {},
   "outputs": [],
   "source": [
    "# импортируем бибилиотеки\n",
    "\n",
    "import pandas as pd\n",
    "import numpy as np\n",
    "import matplotlib.pyplot as plt\n",
    "import seaborn as sns\n",
    "\n",
    "from myhelp.excel_out import exel_out_clip as exo\n",
    "from sklearn.model_selection import train_test_split"
   ]
  },
  {
   "cell_type": "code",
   "execution_count": 136,
   "metadata": {},
   "outputs": [],
   "source": [
    "# загружаем данные\n",
    "\n",
    "# тренировочные данные\n",
    "data = pd.read_csv('E:/Projects/Python/MyPython/kaggle/titanic/data/train.csv',\n",
    "                   sep=',', encoding='utf8')\n",
    "\n",
    "# тестовые данные\n",
    "test_data = pd.read_csv('E:/Projects/Python/MyPython/kaggle/titanic/data/test.csv',\n",
    "                        sep=',', encoding='utf8')\n",
    "\n",
    "# объединяем данные(тестовые данные и тренировочные) в один файл\n",
    "all_data = pd.concat([data, test_data], axis=0, ignore_index=True)\n"
   ]
  },
  {
   "cell_type": "code",
   "execution_count": 137,
   "metadata": {},
   "outputs": [
    {
     "data": {
      "text/html": [
       "<div>\n",
       "<style scoped>\n",
       "    .dataframe tbody tr th:only-of-type {\n",
       "        vertical-align: middle;\n",
       "    }\n",
       "\n",
       "    .dataframe tbody tr th {\n",
       "        vertical-align: top;\n",
       "    }\n",
       "\n",
       "    .dataframe thead th {\n",
       "        text-align: right;\n",
       "    }\n",
       "</style>\n",
       "<table border=\"1\" class=\"dataframe\">\n",
       "  <thead>\n",
       "    <tr style=\"text-align: right;\">\n",
       "      <th></th>\n",
       "      <th>Age</th>\n",
       "      <th>Cabin</th>\n",
       "      <th>Embarked</th>\n",
       "      <th>Fare</th>\n",
       "      <th>Name</th>\n",
       "      <th>Parch</th>\n",
       "      <th>PassengerId</th>\n",
       "      <th>Pclass</th>\n",
       "      <th>Sex</th>\n",
       "      <th>SibSp</th>\n",
       "      <th>Survived</th>\n",
       "      <th>Ticket</th>\n",
       "    </tr>\n",
       "  </thead>\n",
       "  <tbody>\n",
       "    <tr>\n",
       "      <th>0</th>\n",
       "      <td>22.0</td>\n",
       "      <td>NaN</td>\n",
       "      <td>S</td>\n",
       "      <td>7.2500</td>\n",
       "      <td>Braund, Mr. Owen Harris</td>\n",
       "      <td>0</td>\n",
       "      <td>1</td>\n",
       "      <td>3</td>\n",
       "      <td>male</td>\n",
       "      <td>1</td>\n",
       "      <td>0.0</td>\n",
       "      <td>A/5 21171</td>\n",
       "    </tr>\n",
       "    <tr>\n",
       "      <th>1</th>\n",
       "      <td>38.0</td>\n",
       "      <td>C85</td>\n",
       "      <td>C</td>\n",
       "      <td>71.2833</td>\n",
       "      <td>Cumings, Mrs. John Bradley (Florence Briggs Th...</td>\n",
       "      <td>0</td>\n",
       "      <td>2</td>\n",
       "      <td>1</td>\n",
       "      <td>female</td>\n",
       "      <td>1</td>\n",
       "      <td>1.0</td>\n",
       "      <td>PC 17599</td>\n",
       "    </tr>\n",
       "    <tr>\n",
       "      <th>2</th>\n",
       "      <td>26.0</td>\n",
       "      <td>NaN</td>\n",
       "      <td>S</td>\n",
       "      <td>7.9250</td>\n",
       "      <td>Heikkinen, Miss. Laina</td>\n",
       "      <td>0</td>\n",
       "      <td>3</td>\n",
       "      <td>3</td>\n",
       "      <td>female</td>\n",
       "      <td>0</td>\n",
       "      <td>1.0</td>\n",
       "      <td>STON/O2. 3101282</td>\n",
       "    </tr>\n",
       "    <tr>\n",
       "      <th>3</th>\n",
       "      <td>35.0</td>\n",
       "      <td>C123</td>\n",
       "      <td>S</td>\n",
       "      <td>53.1000</td>\n",
       "      <td>Futrelle, Mrs. Jacques Heath (Lily May Peel)</td>\n",
       "      <td>0</td>\n",
       "      <td>4</td>\n",
       "      <td>1</td>\n",
       "      <td>female</td>\n",
       "      <td>1</td>\n",
       "      <td>1.0</td>\n",
       "      <td>113803</td>\n",
       "    </tr>\n",
       "    <tr>\n",
       "      <th>4</th>\n",
       "      <td>35.0</td>\n",
       "      <td>NaN</td>\n",
       "      <td>S</td>\n",
       "      <td>8.0500</td>\n",
       "      <td>Allen, Mr. William Henry</td>\n",
       "      <td>0</td>\n",
       "      <td>5</td>\n",
       "      <td>3</td>\n",
       "      <td>male</td>\n",
       "      <td>0</td>\n",
       "      <td>0.0</td>\n",
       "      <td>373450</td>\n",
       "    </tr>\n",
       "  </tbody>\n",
       "</table>\n",
       "</div>"
      ],
      "text/plain": [
       "    Age Cabin Embarked     Fare  \\\n",
       "0  22.0   NaN        S   7.2500   \n",
       "1  38.0   C85        C  71.2833   \n",
       "2  26.0   NaN        S   7.9250   \n",
       "3  35.0  C123        S  53.1000   \n",
       "4  35.0   NaN        S   8.0500   \n",
       "\n",
       "                                                Name  Parch  PassengerId  \\\n",
       "0                            Braund, Mr. Owen Harris      0            1   \n",
       "1  Cumings, Mrs. John Bradley (Florence Briggs Th...      0            2   \n",
       "2                             Heikkinen, Miss. Laina      0            3   \n",
       "3       Futrelle, Mrs. Jacques Heath (Lily May Peel)      0            4   \n",
       "4                           Allen, Mr. William Henry      0            5   \n",
       "\n",
       "   Pclass     Sex  SibSp  Survived            Ticket  \n",
       "0       3    male      1       0.0         A/5 21171  \n",
       "1       1  female      1       1.0          PC 17599  \n",
       "2       3  female      0       1.0  STON/O2. 3101282  \n",
       "3       1  female      1       1.0            113803  \n",
       "4       3    male      0       0.0            373450  "
      ]
     },
     "execution_count": 137,
     "metadata": {},
     "output_type": "execute_result"
    }
   ],
   "source": [
    "# посмотрим на первые 5 строк данных\n",
    "all_data[:5]"
   ]
  },
  {
   "cell_type": "code",
   "execution_count": 138,
   "metadata": {},
   "outputs": [
    {
     "name": "stdout",
     "output_type": "stream",
     "text": [
      "<class 'pandas.core.frame.DataFrame'>\n",
      "RangeIndex: 1309 entries, 0 to 1308\n",
      "Data columns (total 12 columns):\n",
      "Age            1046 non-null float64\n",
      "Cabin          295 non-null object\n",
      "Embarked       1307 non-null object\n",
      "Fare           1308 non-null float64\n",
      "Name           1309 non-null object\n",
      "Parch          1309 non-null int64\n",
      "PassengerId    1309 non-null int64\n",
      "Pclass         1309 non-null int64\n",
      "Sex            1309 non-null object\n",
      "SibSp          1309 non-null int64\n",
      "Survived       891 non-null float64\n",
      "Ticket         1309 non-null object\n",
      "dtypes: float64(3), int64(4), object(5)\n",
      "memory usage: 97.2+ KB\n"
     ]
    }
   ],
   "source": [
    "# выводим информацию о данных\n",
    "all_data.info()"
   ]
  },
  {
   "cell_type": "code",
   "execution_count": 139,
   "metadata": {},
   "outputs": [
    {
     "name": "stdout",
     "output_type": "stream",
     "text": [
      "Отсутсвующие элементы в тренировочных данных:\n",
      "\n",
      "  PassengerId      0\n",
      "Survived         0\n",
      "Pclass           0\n",
      "Name             0\n",
      "Sex              0\n",
      "Age            177\n",
      "SibSp            0\n",
      "Parch            0\n",
      "Ticket           0\n",
      "Fare             0\n",
      "Cabin          687\n",
      "Embarked         2\n",
      "dtype: int64\n",
      "----------------------------------------------------------------------------------------------------\n",
      "\n",
      "Отсутсвующие элементы в тестовых данных:\n",
      "\n",
      " PassengerId      0\n",
      "Survived         0\n",
      "Pclass           0\n",
      "Name             0\n",
      "Sex              0\n",
      "Age            177\n",
      "SibSp            0\n",
      "Parch            0\n",
      "Ticket           0\n",
      "Fare             0\n",
      "Cabin          687\n",
      "Embarked         2\n",
      "dtype: int64\n"
     ]
    }
   ],
   "source": [
    "# как видим имеются пропущенные значения в данных, посчитаем их количество\n",
    "print('Отсутсвующие элементы в тренировочных данных:\\n\\n ', data.isnull().sum())\n",
    "print('-'*100)\n",
    "print('\\nОтсутсвующие элементы в тестовых данных:\\n\\n', data.isnull().sum())"
   ]
  },
  {
   "cell_type": "code",
   "execution_count": 140,
   "metadata": {},
   "outputs": [
    {
     "data": {
      "text/plain": [
       "0                              Braund, Mr. Owen Harris\n",
       "1    Cumings, Mrs. John Bradley (Florence Briggs Th...\n",
       "2                               Heikkinen, Miss. Laina\n",
       "3         Futrelle, Mrs. Jacques Heath (Lily May Peel)\n",
       "4                             Allen, Mr. William Henry\n",
       "5                                     Moran, Mr. James\n",
       "6                              McCarthy, Mr. Timothy J\n",
       "7                       Palsson, Master. Gosta Leonard\n",
       "8    Johnson, Mrs. Oscar W (Elisabeth Vilhelmina Berg)\n",
       "9                  Nasser, Mrs. Nicholas (Adele Achem)\n",
       "Name: Name, dtype: object"
      ]
     },
     "execution_count": 140,
     "metadata": {},
     "output_type": "execute_result"
    }
   ],
   "source": [
    "# пустые значения нужно заполнять (брать просто средний возраст некорректно,\n",
    "# возраст зависит от титула, возможно от пола и(или) от класса)\n",
    "\n",
    "# посмотрим первые 10 списков титулов\n",
    "all_data.Name.head(10)\n"
   ]
  },
  {
   "cell_type": "markdown",
   "metadata": {},
   "source": [
    "##### Name"
   ]
  },
  {
   "cell_type": "code",
   "execution_count": 141,
   "metadata": {},
   "outputs": [
    {
     "name": "stdout",
     "output_type": "stream",
     "text": [
      "Имена отридактированы\n"
     ]
    }
   ],
   "source": [
    "# каждое имя имеет статус, как по мне так это очень важный предиктор в задаче\n",
    "# проставим титула (разобьем по запятой)\n",
    "\n",
    "def replace_name(atr):\n",
    "    \n",
    "    '''функция выделения титулов из имен'''\n",
    "    return atr.split(',')[1].split('.')[0].strip()\n",
    "\n",
    "\n",
    "try:\n",
    "    # получаем список очищенный от имен список титулов\n",
    "    all_data.Name = [replace_name(x) for x in all_data.Name]\n",
    "    print('Имена отридактированы')\n",
    "except IndexError:\n",
    "    print('Имена уже были отридактированы')\n",
    "    "
   ]
  },
  {
   "cell_type": "code",
   "execution_count": 142,
   "metadata": {},
   "outputs": [
    {
     "data": {
      "text/plain": [
       "Mr              757\n",
       "Miss            260\n",
       "Mrs             197\n",
       "Master           61\n",
       "Rev               8\n",
       "Dr                8\n",
       "Col               4\n",
       "Ms                2\n",
       "Mlle              2\n",
       "Major             2\n",
       "Dona              1\n",
       "Jonkheer          1\n",
       "Sir               1\n",
       "Capt              1\n",
       "Don               1\n",
       "the Countess      1\n",
       "Lady              1\n",
       "Mme               1\n",
       "Name: Name, dtype: int64"
      ]
     },
     "execution_count": 142,
     "metadata": {},
     "output_type": "execute_result"
    }
   ],
   "source": [
    "# посмотрим на результат\n",
    "all_data.Name.value_counts()\n",
    "# как видим наибольшие значния Mr, Miss, Mrs, Master\n",
    "# выделим их в отдельные группы, остальных поместим в others"
   ]
  },
  {
   "cell_type": "code",
   "execution_count": 143,
   "metadata": {},
   "outputs": [
    {
     "name": "stdout",
     "output_type": "stream",
     "text": [
      "----------------------------------------------------------------------------------------------------\n"
     ]
    },
    {
     "data": {
      "text/plain": [
       "Mr        757\n",
       "Miss      262\n",
       "Mrs       201\n",
       "Master     61\n",
       "Other      28\n",
       "Name: Name, dtype: int64"
      ]
     },
     "execution_count": 143,
     "metadata": {},
     "output_type": "execute_result"
    }
   ],
   "source": [
    "def agr_name(tit):\n",
    "    \n",
    "    '''функция группирования титулов '''\n",
    "    \n",
    "    if tit == 'Mlle' or tit == 'Miss':\n",
    "        tit = 'Miss'\n",
    "    elif tit == 'Mme' or tit == 'Lady' or tit == 'Ms' or tit == 'Mrs':\n",
    "        tit = 'Mrs'\n",
    "    elif tit == 'Master':\n",
    "        tit = 'Master'\n",
    "    elif tit == 'Mr':\n",
    "        tit = 'Mr'\n",
    "    elif tit != 'Miss' or tit != 'Mrs' or tit != 'Mr' or tit != 'Master':\n",
    "        tit = 'Other'\n",
    "    return tit\n",
    "\n",
    "\n",
    "# группируем титулы в дате\n",
    "print('-'*100)   \n",
    "all_data.Name = [agr_name(x) for x in all_data.Name]\n",
    "# выведем подсчет уникальных значений\n",
    "all_data.Name.value_counts()"
   ]
  },
  {
   "cell_type": "markdown",
   "metadata": {},
   "source": [
    "##### Sex"
   ]
  },
  {
   "cell_type": "code",
   "execution_count": 144,
   "metadata": {},
   "outputs": [
    {
     "name": "stdout",
     "output_type": "stream",
     "text": [
      "      Sex  Survived\n",
      "0  female  0.742038\n",
      "1    male  0.188908\n"
     ]
    }
   ],
   "source": [
    "# переходим к предиктору \"пол\"\n",
    "\n",
    "# посмотрим долю выживаемости мужчин и женщин\n",
    "print(all_data[['Sex', 'Survived']].groupby(['Sex'], as_index=False).mean())\n",
    "\n",
    "# процент выживаемости у женщин значительтно выше"
   ]
  },
  {
   "cell_type": "code",
   "execution_count": 145,
   "metadata": {},
   "outputs": [
    {
     "data": {
      "text/plain": [
       "Pclass  Sex     Survived\n",
       "1       female  1.0         0.968085\n",
       "                0.0         0.031915\n",
       "        male    0.0         0.631148\n",
       "                1.0         0.368852\n",
       "2       female  1.0         0.921053\n",
       "                0.0         0.078947\n",
       "        male    0.0         0.842593\n",
       "                1.0         0.157407\n",
       "3       female  0.0         0.500000\n",
       "                1.0         0.500000\n",
       "        male    0.0         0.864553\n",
       "                1.0         0.135447\n",
       "Name: Survived, dtype: float64"
      ]
     },
     "execution_count": 145,
     "metadata": {},
     "output_type": "execute_result"
    }
   ],
   "source": [
    "# доля выживаемости по полу и классу\n",
    "all_data.groupby([\"Pclass\", \"Sex\"])[\"Survived\"].value_counts(normalize=True)\n",
    "# процент выживаемости женщин первого класса составляет ~97%, второго класса ~96%, третьего ~50%\n",
    "# начинает высрисовываться картина"
   ]
  },
  {
   "cell_type": "markdown",
   "metadata": {},
   "source": [
    "##### Family "
   ]
  },
  {
   "cell_type": "code",
   "execution_count": 146,
   "metadata": {},
   "outputs": [
    {
     "name": "stdout",
     "output_type": "stream",
     "text": [
      "   Family  Survived\n",
      "0       1  0.303538\n",
      "1       2  0.552795\n",
      "2       3  0.578431\n",
      "3       4  0.724138\n",
      "4       5  0.200000\n",
      "5       6  0.136364\n",
      "6       7  0.333333\n",
      "7       8  0.000000\n",
      "8      11  0.000000\n"
     ]
    }
   ],
   "source": [
    "# создадим новый предиктор (семья) суммой родителей, братьев и систер и сам пассажир\n",
    "all_data['Family'] = all_data.SibSp + all_data.Parch + 1\n",
    "# посмотрим зависимость кол-во людей в семье на выживаемость\n",
    "print(all_data[['Family', 'Survived']].groupby(['Family'], as_index=False).mean())\n",
    "# зависимость присутствует, тем меньше людей на корабле, тем вероятность выжить меньше\n",
    "# также, если семья имеет 5 и выше людей, то вероятность выживания резко падает"
   ]
  },
  {
   "cell_type": "code",
   "execution_count": 147,
   "metadata": {},
   "outputs": [
    {
     "data": {
      "text/plain": [
       "1     790\n",
       "2     235\n",
       "3     159\n",
       "4      43\n",
       "6      25\n",
       "5      22\n",
       "7      16\n",
       "11     11\n",
       "8       8\n",
       "Name: Family, dtype: int64"
      ]
     },
     "execution_count": 147,
     "metadata": {},
     "output_type": "execute_result"
    }
   ],
   "source": [
    "# посмотрим кол-во семей в зависимости от кол-ва людей в семье\n",
    "all_data.Family.value_counts()\n",
    "# в основном пассажиры находились на Титанике в одиночке"
   ]
  },
  {
   "cell_type": "code",
   "execution_count": 148,
   "metadata": {},
   "outputs": [
    {
     "name": "stdout",
     "output_type": "stream",
     "text": [
      "   Family  Survived\n",
      "0       0  0.000000\n",
      "1       1  0.295222\n",
      "2       2  0.552795\n",
      "3       3  0.578431\n",
      "4       4  0.724138\n"
     ]
    }
   ],
   "source": [
    "# разделим семьи на 5 групп (|от 0 до 4|, 0=(11,8), 1=(1, 5, 6, 7), 2=(2), 3=(3), 4=(4))\n",
    "def agr_family(count_family):\n",
    "    \n",
    "    '''функция группирования семьи'''\n",
    "    if count_family == 11 or count_family == 8:\n",
    "        count_family = 0\n",
    "    elif count_family == 1 or count_family == 5 or count_family == 6 or count_family == 7:\n",
    "        count_family = 1\n",
    "    elif count_family == 2:\n",
    "        count_family = 2\n",
    "    elif count_family == 3:\n",
    "        count_family = 3\n",
    "    elif count_family == 4:\n",
    "        count_family = 4\n",
    "    return count_family\n",
    "    \n",
    "\n",
    "# присваеваем группированные значения\n",
    "all_data.Family = [agr_family(x) for x in all_data.Family]\n",
    "\n",
    "# смотрим на выживаемость по новой группе\n",
    "print(all_data[['Family', 'Survived']].groupby(['Family'], as_index=False).mean())"
   ]
  },
  {
   "cell_type": "code",
   "execution_count": 149,
   "metadata": {},
   "outputs": [
    {
     "data": {
      "text/plain": [
       "1    853\n",
       "2    235\n",
       "3    159\n",
       "4     43\n",
       "0     19\n",
       "Name: Family, dtype: int64"
      ]
     },
     "execution_count": 149,
     "metadata": {},
     "output_type": "execute_result"
    }
   ],
   "source": [
    "# смотрим как получилось (подсчитываем кол-во уникальных значений)\n",
    "all_data.Family.value_counts()"
   ]
  },
  {
   "cell_type": "markdown",
   "metadata": {},
   "source": [
    "##### Fare"
   ]
  },
  {
   "cell_type": "code",
   "execution_count": 150,
   "metadata": {},
   "outputs": [
    {
     "data": {
      "text/plain": [
       "1"
      ]
     },
     "execution_count": 150,
     "metadata": {},
     "output_type": "execute_result"
    }
   ],
   "source": [
    "# Количество отсутствующих значений в цене билета\n",
    "all_data.Fare.isnull().sum(axis=0)"
   ]
  },
  {
   "cell_type": "code",
   "execution_count": 151,
   "metadata": {},
   "outputs": [
    {
     "name": "stdout",
     "output_type": "stream",
     "text": [
      "Кол-во нулевых билетов: 0.0    17\n",
      "Name: Fare, dtype: int64\n"
     ]
    },
    {
     "data": {
      "text/html": [
       "<div>\n",
       "<style scoped>\n",
       "    .dataframe tbody tr th:only-of-type {\n",
       "        vertical-align: middle;\n",
       "    }\n",
       "\n",
       "    .dataframe tbody tr th {\n",
       "        vertical-align: top;\n",
       "    }\n",
       "\n",
       "    .dataframe thead th {\n",
       "        text-align: right;\n",
       "    }\n",
       "</style>\n",
       "<table border=\"1\" class=\"dataframe\">\n",
       "  <thead>\n",
       "    <tr style=\"text-align: right;\">\n",
       "      <th></th>\n",
       "      <th>Age</th>\n",
       "      <th>Cabin</th>\n",
       "      <th>Embarked</th>\n",
       "      <th>Fare</th>\n",
       "      <th>Name</th>\n",
       "      <th>Parch</th>\n",
       "      <th>PassengerId</th>\n",
       "      <th>Pclass</th>\n",
       "      <th>Sex</th>\n",
       "      <th>SibSp</th>\n",
       "      <th>Survived</th>\n",
       "      <th>Ticket</th>\n",
       "      <th>Family</th>\n",
       "    </tr>\n",
       "  </thead>\n",
       "  <tbody>\n",
       "    <tr>\n",
       "      <th>179</th>\n",
       "      <td>36.0</td>\n",
       "      <td>NaN</td>\n",
       "      <td>S</td>\n",
       "      <td>0.0</td>\n",
       "      <td>Mr</td>\n",
       "      <td>0</td>\n",
       "      <td>180</td>\n",
       "      <td>3</td>\n",
       "      <td>male</td>\n",
       "      <td>0</td>\n",
       "      <td>0.0</td>\n",
       "      <td>LINE</td>\n",
       "      <td>1</td>\n",
       "    </tr>\n",
       "    <tr>\n",
       "      <th>263</th>\n",
       "      <td>40.0</td>\n",
       "      <td>B94</td>\n",
       "      <td>S</td>\n",
       "      <td>0.0</td>\n",
       "      <td>Mr</td>\n",
       "      <td>0</td>\n",
       "      <td>264</td>\n",
       "      <td>1</td>\n",
       "      <td>male</td>\n",
       "      <td>0</td>\n",
       "      <td>0.0</td>\n",
       "      <td>112059</td>\n",
       "      <td>1</td>\n",
       "    </tr>\n",
       "    <tr>\n",
       "      <th>271</th>\n",
       "      <td>25.0</td>\n",
       "      <td>NaN</td>\n",
       "      <td>S</td>\n",
       "      <td>0.0</td>\n",
       "      <td>Mr</td>\n",
       "      <td>0</td>\n",
       "      <td>272</td>\n",
       "      <td>3</td>\n",
       "      <td>male</td>\n",
       "      <td>0</td>\n",
       "      <td>1.0</td>\n",
       "      <td>LINE</td>\n",
       "      <td>1</td>\n",
       "    </tr>\n",
       "    <tr>\n",
       "      <th>277</th>\n",
       "      <td>NaN</td>\n",
       "      <td>NaN</td>\n",
       "      <td>S</td>\n",
       "      <td>0.0</td>\n",
       "      <td>Mr</td>\n",
       "      <td>0</td>\n",
       "      <td>278</td>\n",
       "      <td>2</td>\n",
       "      <td>male</td>\n",
       "      <td>0</td>\n",
       "      <td>0.0</td>\n",
       "      <td>239853</td>\n",
       "      <td>1</td>\n",
       "    </tr>\n",
       "    <tr>\n",
       "      <th>302</th>\n",
       "      <td>19.0</td>\n",
       "      <td>NaN</td>\n",
       "      <td>S</td>\n",
       "      <td>0.0</td>\n",
       "      <td>Mr</td>\n",
       "      <td>0</td>\n",
       "      <td>303</td>\n",
       "      <td>3</td>\n",
       "      <td>male</td>\n",
       "      <td>0</td>\n",
       "      <td>0.0</td>\n",
       "      <td>LINE</td>\n",
       "      <td>1</td>\n",
       "    </tr>\n",
       "    <tr>\n",
       "      <th>413</th>\n",
       "      <td>NaN</td>\n",
       "      <td>NaN</td>\n",
       "      <td>S</td>\n",
       "      <td>0.0</td>\n",
       "      <td>Mr</td>\n",
       "      <td>0</td>\n",
       "      <td>414</td>\n",
       "      <td>2</td>\n",
       "      <td>male</td>\n",
       "      <td>0</td>\n",
       "      <td>0.0</td>\n",
       "      <td>239853</td>\n",
       "      <td>1</td>\n",
       "    </tr>\n",
       "    <tr>\n",
       "      <th>466</th>\n",
       "      <td>NaN</td>\n",
       "      <td>NaN</td>\n",
       "      <td>S</td>\n",
       "      <td>0.0</td>\n",
       "      <td>Mr</td>\n",
       "      <td>0</td>\n",
       "      <td>467</td>\n",
       "      <td>2</td>\n",
       "      <td>male</td>\n",
       "      <td>0</td>\n",
       "      <td>0.0</td>\n",
       "      <td>239853</td>\n",
       "      <td>1</td>\n",
       "    </tr>\n",
       "    <tr>\n",
       "      <th>481</th>\n",
       "      <td>NaN</td>\n",
       "      <td>NaN</td>\n",
       "      <td>S</td>\n",
       "      <td>0.0</td>\n",
       "      <td>Mr</td>\n",
       "      <td>0</td>\n",
       "      <td>482</td>\n",
       "      <td>2</td>\n",
       "      <td>male</td>\n",
       "      <td>0</td>\n",
       "      <td>0.0</td>\n",
       "      <td>239854</td>\n",
       "      <td>1</td>\n",
       "    </tr>\n",
       "    <tr>\n",
       "      <th>597</th>\n",
       "      <td>49.0</td>\n",
       "      <td>NaN</td>\n",
       "      <td>S</td>\n",
       "      <td>0.0</td>\n",
       "      <td>Mr</td>\n",
       "      <td>0</td>\n",
       "      <td>598</td>\n",
       "      <td>3</td>\n",
       "      <td>male</td>\n",
       "      <td>0</td>\n",
       "      <td>0.0</td>\n",
       "      <td>LINE</td>\n",
       "      <td>1</td>\n",
       "    </tr>\n",
       "    <tr>\n",
       "      <th>633</th>\n",
       "      <td>NaN</td>\n",
       "      <td>NaN</td>\n",
       "      <td>S</td>\n",
       "      <td>0.0</td>\n",
       "      <td>Mr</td>\n",
       "      <td>0</td>\n",
       "      <td>634</td>\n",
       "      <td>1</td>\n",
       "      <td>male</td>\n",
       "      <td>0</td>\n",
       "      <td>0.0</td>\n",
       "      <td>112052</td>\n",
       "      <td>1</td>\n",
       "    </tr>\n",
       "    <tr>\n",
       "      <th>674</th>\n",
       "      <td>NaN</td>\n",
       "      <td>NaN</td>\n",
       "      <td>S</td>\n",
       "      <td>0.0</td>\n",
       "      <td>Mr</td>\n",
       "      <td>0</td>\n",
       "      <td>675</td>\n",
       "      <td>2</td>\n",
       "      <td>male</td>\n",
       "      <td>0</td>\n",
       "      <td>0.0</td>\n",
       "      <td>239856</td>\n",
       "      <td>1</td>\n",
       "    </tr>\n",
       "    <tr>\n",
       "      <th>732</th>\n",
       "      <td>NaN</td>\n",
       "      <td>NaN</td>\n",
       "      <td>S</td>\n",
       "      <td>0.0</td>\n",
       "      <td>Mr</td>\n",
       "      <td>0</td>\n",
       "      <td>733</td>\n",
       "      <td>2</td>\n",
       "      <td>male</td>\n",
       "      <td>0</td>\n",
       "      <td>0.0</td>\n",
       "      <td>239855</td>\n",
       "      <td>1</td>\n",
       "    </tr>\n",
       "    <tr>\n",
       "      <th>806</th>\n",
       "      <td>39.0</td>\n",
       "      <td>A36</td>\n",
       "      <td>S</td>\n",
       "      <td>0.0</td>\n",
       "      <td>Mr</td>\n",
       "      <td>0</td>\n",
       "      <td>807</td>\n",
       "      <td>1</td>\n",
       "      <td>male</td>\n",
       "      <td>0</td>\n",
       "      <td>0.0</td>\n",
       "      <td>112050</td>\n",
       "      <td>1</td>\n",
       "    </tr>\n",
       "    <tr>\n",
       "      <th>815</th>\n",
       "      <td>NaN</td>\n",
       "      <td>B102</td>\n",
       "      <td>S</td>\n",
       "      <td>0.0</td>\n",
       "      <td>Mr</td>\n",
       "      <td>0</td>\n",
       "      <td>816</td>\n",
       "      <td>1</td>\n",
       "      <td>male</td>\n",
       "      <td>0</td>\n",
       "      <td>0.0</td>\n",
       "      <td>112058</td>\n",
       "      <td>1</td>\n",
       "    </tr>\n",
       "    <tr>\n",
       "      <th>822</th>\n",
       "      <td>38.0</td>\n",
       "      <td>NaN</td>\n",
       "      <td>S</td>\n",
       "      <td>0.0</td>\n",
       "      <td>Other</td>\n",
       "      <td>0</td>\n",
       "      <td>823</td>\n",
       "      <td>1</td>\n",
       "      <td>male</td>\n",
       "      <td>0</td>\n",
       "      <td>0.0</td>\n",
       "      <td>19972</td>\n",
       "      <td>1</td>\n",
       "    </tr>\n",
       "    <tr>\n",
       "      <th>1157</th>\n",
       "      <td>NaN</td>\n",
       "      <td>NaN</td>\n",
       "      <td>S</td>\n",
       "      <td>0.0</td>\n",
       "      <td>Mr</td>\n",
       "      <td>0</td>\n",
       "      <td>1158</td>\n",
       "      <td>1</td>\n",
       "      <td>male</td>\n",
       "      <td>0</td>\n",
       "      <td>NaN</td>\n",
       "      <td>112051</td>\n",
       "      <td>1</td>\n",
       "    </tr>\n",
       "    <tr>\n",
       "      <th>1263</th>\n",
       "      <td>49.0</td>\n",
       "      <td>B52 B54 B56</td>\n",
       "      <td>S</td>\n",
       "      <td>0.0</td>\n",
       "      <td>Mr</td>\n",
       "      <td>0</td>\n",
       "      <td>1264</td>\n",
       "      <td>1</td>\n",
       "      <td>male</td>\n",
       "      <td>0</td>\n",
       "      <td>NaN</td>\n",
       "      <td>112058</td>\n",
       "      <td>1</td>\n",
       "    </tr>\n",
       "  </tbody>\n",
       "</table>\n",
       "</div>"
      ],
      "text/plain": [
       "       Age        Cabin Embarked  Fare   Name  Parch  PassengerId  Pclass  \\\n",
       "179   36.0          NaN        S   0.0     Mr      0          180       3   \n",
       "263   40.0          B94        S   0.0     Mr      0          264       1   \n",
       "271   25.0          NaN        S   0.0     Mr      0          272       3   \n",
       "277    NaN          NaN        S   0.0     Mr      0          278       2   \n",
       "302   19.0          NaN        S   0.0     Mr      0          303       3   \n",
       "413    NaN          NaN        S   0.0     Mr      0          414       2   \n",
       "466    NaN          NaN        S   0.0     Mr      0          467       2   \n",
       "481    NaN          NaN        S   0.0     Mr      0          482       2   \n",
       "597   49.0          NaN        S   0.0     Mr      0          598       3   \n",
       "633    NaN          NaN        S   0.0     Mr      0          634       1   \n",
       "674    NaN          NaN        S   0.0     Mr      0          675       2   \n",
       "732    NaN          NaN        S   0.0     Mr      0          733       2   \n",
       "806   39.0          A36        S   0.0     Mr      0          807       1   \n",
       "815    NaN         B102        S   0.0     Mr      0          816       1   \n",
       "822   38.0          NaN        S   0.0  Other      0          823       1   \n",
       "1157   NaN          NaN        S   0.0     Mr      0         1158       1   \n",
       "1263  49.0  B52 B54 B56        S   0.0     Mr      0         1264       1   \n",
       "\n",
       "       Sex  SibSp  Survived  Ticket  Family  \n",
       "179   male      0       0.0    LINE       1  \n",
       "263   male      0       0.0  112059       1  \n",
       "271   male      0       1.0    LINE       1  \n",
       "277   male      0       0.0  239853       1  \n",
       "302   male      0       0.0    LINE       1  \n",
       "413   male      0       0.0  239853       1  \n",
       "466   male      0       0.0  239853       1  \n",
       "481   male      0       0.0  239854       1  \n",
       "597   male      0       0.0    LINE       1  \n",
       "633   male      0       0.0  112052       1  \n",
       "674   male      0       0.0  239856       1  \n",
       "732   male      0       0.0  239855       1  \n",
       "806   male      0       0.0  112050       1  \n",
       "815   male      0       0.0  112058       1  \n",
       "822   male      0       0.0   19972       1  \n",
       "1157  male      0       NaN  112051       1  \n",
       "1263  male      0       NaN  112058       1  "
      ]
     },
     "execution_count": 151,
     "metadata": {},
     "output_type": "execute_result"
    }
   ],
   "source": [
    "# нулевые значения в цене билета в зависимоти от титула    \n",
    "print('Кол-во нулевых билетов: ' + str(all_data.Fare[all_data.Fare == 0].value_counts()))\n",
    "\n",
    "# выводим значения\n",
    "all_data.query('Fare == 0')"
   ]
  },
  {
   "cell_type": "code",
   "execution_count": 152,
   "metadata": {},
   "outputs": [
    {
     "name": "stdout",
     "output_type": "stream",
     "text": [
      "             Fare\n",
      "Pclass           \n",
      "1       89.447482\n",
      "2       21.648108\n",
      "3       13.378473\n"
     ]
    }
   ],
   "source": [
    "# как видно по таблице нулевая стоимость была у всех мужчин, также в основном неизвестен их возраст,\n",
    "# но согласно титулам мы можем сказать что это не дети, поэтому нужно дополнить нулевые значения\n",
    "\n",
    "# логично предположить что стоимость билета зависит от класса, проверим:\n",
    "mean_fare = all_data.query('Fare != 0')[['Pclass', 'Fare']].groupby(['Pclass']).mean()\n",
    "print(mean_fare)\n",
    "# так и есть, попробуем заполнить нулевые значения согласно классам пассажира"
   ]
  },
  {
   "cell_type": "code",
   "execution_count": 153,
   "metadata": {},
   "outputs": [],
   "source": [
    "# заменяем недостающее значение, которые выявили ранее\n",
    "# по нему проставится среднее значение по классу\n",
    "all_data.loc[all_data.Fare.isnull(), 'Fare'] = 0\n",
    "\n",
    "# заменяем все нулевые значения средними значения по классам\n",
    "all_data.loc[(all_data.Fare == 0) & (all_data.Pclass == 1), 'Fare'] = float(mean_fare.loc[1])\n",
    "all_data.loc[(all_data.Fare == 0) & (all_data.Pclass == 2), 'Fare'] = float(mean_fare.loc[2])\n",
    "all_data.loc[(all_data.Fare == 0) & (all_data.Pclass == 3), 'Fare'] = float(mean_fare.loc[3])"
   ]
  },
  {
   "cell_type": "markdown",
   "metadata": {},
   "source": [
    "##### Age"
   ]
  },
  {
   "cell_type": "code",
   "execution_count": 154,
   "metadata": {},
   "outputs": [
    {
     "data": {
      "text/plain": [
       "<matplotlib.legend.Legend at 0x4d89950>"
      ]
     },
     "execution_count": 154,
     "metadata": {},
     "output_type": "execute_result"
    },
    {
     "data": {
      "image/png": "[encoded data removed]",
      "text/plain": [
       "<matplotlib.figure.Figure at 0x4d89d50>"
      ]
     },
     "metadata": {},
     "output_type": "display_data"
    }
   ],
   "source": [
    "# возраст один из самых выжных фич, около 20% всей выборки пропущен возраст\n",
    "# необходимо максимально корректно заполнить пропуска\n",
    "# (по предыдущем решениям в основном нейросеть путалась имеено в заполненых значениях возрастов)\n",
    "\n",
    "# посмотрим на распределение возрастов от класса\n",
    "all_data.Age[all_data.Pclass == 1].plot(kind='kde')    \n",
    "all_data.Age[all_data.Pclass == 2].plot(kind='kde')\n",
    "all_data.Age[all_data.Pclass == 3].plot(kind='kde')\n",
    "plt.xlabel(\"Возраст\")\n",
    "plt.title(\"Распределение возрастов по классу\")\n",
    "plt.legend(('1-ый класс', '2-ой класс','3-ий класс'),loc='best')\n",
    "\n",
    "# как видно из графика разброс по возрасту 3-ьего класса был минимальным, в то время как 1-ого класса приличным\n",
    "# это хорошо, так как это нам поможет в проставлении корректного значения пассажирам третьего класса,\n",
    "# так как недостаток информации наблюдается именно по третьему классу"
   ]
  },
  {
   "cell_type": "code",
   "execution_count": 155,
   "metadata": {},
   "outputs": [
    {
     "name": "stdout",
     "output_type": "stream",
     "text": [
      "              Age\n",
      "Name             \n",
      "Master   5.482642\n",
      "Miss    21.795236\n",
      "Mr      32.252151\n",
      "Mrs     36.930636\n",
      "Other   45.074074\n"
     ]
    }
   ],
   "source": [
    "# логично предположить что возрас будет коррелировать с титулом\n",
    "# посмотрим на зависимость возраста по титулу\n",
    "mean_age = all_data[['Name', 'Age']].groupby(['Name']).mean()\n",
    "print(mean_age)"
   ]
  },
  {
   "cell_type": "code",
   "execution_count": 156,
   "metadata": {},
   "outputs": [],
   "source": [
    "# проставим пропускные значения возраста согласано титулам\n",
    "all_data.loc[all_data.Age.isnull(), 'Age'] = 0\n",
    "all_data.loc[(all_data.Age == 0) & (all_data.Name == 'Master'), 'Age'] = float(mean_age.loc['Master'])\n",
    "all_data.loc[(all_data.Age == 0) & (all_data.Name == 'Miss'), 'Age'] = float(mean_age.loc['Miss'])\n",
    "all_data.loc[(all_data.Age == 0) & (all_data.Name == 'Mr'), 'Age'] = float(mean_age.loc['Mr'])\n",
    "all_data.loc[(all_data.Age == 0) & (all_data.Name == 'Mrs'), 'Age'] = float(mean_age.loc['Mrs'])\n",
    "all_data.loc[(all_data.Age == 0) & (all_data.Name == 'Other'), 'Age'] = float(mean_age.loc['Other'])"
   ]
  },
  {
   "cell_type": "code",
   "execution_count": 157,
   "metadata": {},
   "outputs": [
    {
     "name": "stdout",
     "output_type": "stream",
     "text": [
      "              Age\n",
      "Name             \n",
      "Master   5.482642\n",
      "Miss    21.795236\n",
      "Mr      32.252151\n",
      "Mrs     36.930636\n",
      "Other   45.074074\n"
     ]
    }
   ],
   "source": [
    "# снова проверяем что получилось, видим что все четенько\n",
    "mean_age = all_data[['Name', 'Age']].groupby(['Name']).mean()\n",
    "\n",
    "print(mean_age)"
   ]
  },
  {
   "cell_type": "code",
   "execution_count": 158,
   "metadata": {},
   "outputs": [],
   "source": [
    "# сформируем возрастную группу\n",
    "all_data.loc[ all_data['Age'] <= 16, 'Age'] = 0\n",
    "all_data.loc[(all_data['Age'] > 16) & (all_data['Age'] <= 32), 'Age'] = 1\n",
    "all_data.loc[(all_data['Age'] > 32) & (all_data['Age'] <= 48), 'Age'] = 2\n",
    "all_data.loc[(all_data['Age'] > 48) & (all_data['Age'] <= 64), 'Age'] = 3\n",
    "all_data.loc[ all_data['Age'] > 64, 'Age'] = 4 ;"
   ]
  },
  {
   "cell_type": "markdown",
   "metadata": {},
   "source": [
    "##### Cabin"
   ]
  },
  {
   "cell_type": "code",
   "execution_count": 159,
   "metadata": {},
   "outputs": [
    {
     "name": "stdout",
     "output_type": "stream",
     "text": [
      "       Survived\n",
      "Cabin          \n",
      "A      0.466667\n",
      "B      0.744681\n",
      "C      0.593220\n",
      "D      0.757576\n",
      "E      0.750000\n",
      "F      0.615385\n",
      "G      0.500000\n",
      "T      0.000000\n",
      "Z      0.299854\n",
      "----------\n",
      "Z    687\n",
      "C     59\n",
      "B     47\n",
      "D     33\n",
      "E     32\n",
      "A     15\n",
      "F     13\n",
      "G      4\n",
      "T      1\n",
      "Name: Cabin, dtype: int64\n"
     ]
    }
   ],
   "source": [
    "# заменяем пропускные знаяения 'Z'\n",
    "# отберем только первые буквы кабин и посмотрим на зависимось\n",
    "# (сам бы кабины я не включил в анализ,\n",
    "# но в виду того что нихрена не выходило набрать свыше 80% включим их)\n",
    "\n",
    "# не знаю о чем говорит первая отобранный символ билета, увидел это в другом решении и чувака\n",
    "\n",
    "# проставляем где отсутсвует 'Z'\n",
    "all_data.Cabin.fillna('Z',inplace=True)\n",
    "\n",
    "# отбираем первый символ кабины\n",
    "all_data['Cabin'] = all_data['Cabin'].map(lambda x : x[0])\n",
    "\n",
    "# считаем уникальные значения\n",
    "all_data['Cabin'].value_counts()\n",
    "\n",
    "print(all_data[:891][['Cabin', 'Survived']].groupby(['Cabin']).mean())\n",
    "print('-'*10)\n",
    "# количество\n",
    "print(all_data[:891]['Cabin'].value_counts())\n",
    "\n",
    "# как видим зависимость есть, причем достаточно сильная\n",
    "# в билетах, начинающихся на B,D,E - шанс на выживание резко увеличивается"
   ]
  },
  {
   "cell_type": "code",
   "execution_count": 160,
   "metadata": {},
   "outputs": [],
   "source": [
    "def agr_cabin(cabin):\n",
    "    \n",
    "    '''функция агрегированя и приведение в числовой тип cabin'''\n",
    "    \n",
    "    if cabin  == 'Z' or cabin == 'T':\n",
    "        cabin = 0\n",
    "    elif cabin == 'A' or cabin == 'G':\n",
    "        cabin = 3\n",
    "    elif cabin == 'C':\n",
    "        cabin = 4\n",
    "    elif cabin == 'F':\n",
    "        cabin = 5\n",
    "    elif cabin == 'B' or cabin == 'D' or cabin == 'E':\n",
    "        cabin = 6\n",
    "    else:\n",
    "        cabin = 'no'\n",
    "    return cabin"
   ]
  },
  {
   "cell_type": "code",
   "execution_count": 161,
   "metadata": {},
   "outputs": [],
   "source": [
    "# присваеваем группированные значения\n",
    "all_data.Cabin = [agr_cabin(x) for x in all_data.Cabin]"
   ]
  },
  {
   "cell_type": "markdown",
   "metadata": {},
   "source": [
    "##### IsALone"
   ]
  },
  {
   "cell_type": "code",
   "execution_count": 162,
   "metadata": {},
   "outputs": [],
   "source": [
    "# создадим дополнительный столбец (один или нет пассажир)\n",
    "\n",
    "all_data['isAlone'] = 0\n",
    "all_data.loc[all_data['Family'] == 1, 'isAlone'] = 1"
   ]
  },
  {
   "cell_type": "markdown",
   "metadata": {},
   "source": [
    "##### Краткая сводка"
   ]
  },
  {
   "cell_type": "code",
   "execution_count": 163,
   "metadata": {},
   "outputs": [],
   "source": [
    "# Итак прикинем что сделали:\n",
    "# Какаие независимые переменные будем использовать\n",
    "\n",
    "# 1-Класс\n",
    "# 2-Пол\n",
    "# 3-Титул\n",
    "# 4-Возраст\n",
    "# 5-Семья\n",
    "# 6-Стоимость билета\n",
    "# 7-Кабины\n",
    "\n",
    "# Нам осталось нормировать данные, привести их от 0,1 до 0,99\n",
    "\n",
    "# Для большинства моделей нормировать данные не обязательно,\n",
    "# но сделаем это, в виду того что будем юзать нейронки и SVM\n",
    "\n",
    "# Для этого нуджно все предикторы привести в числовой тип, давайте сделаем это"
   ]
  },
  {
   "cell_type": "markdown",
   "metadata": {},
   "source": [
    "##### Нормирование данных"
   ]
  },
  {
   "cell_type": "code",
   "execution_count": 164,
   "metadata": {},
   "outputs": [],
   "source": [
    "# опишем функцию нормирования данных\n",
    "def norm_data(val, min_val, max_val):\n",
    "    '''функция нормирования данных'''\n",
    "    min_lim = 0.01\n",
    "    max_lim = 0.99\n",
    "    return (((max_lim - min_lim)*(val-min_val)/(max_val-min_val)+min_lim))"
   ]
  },
  {
   "cell_type": "code",
   "execution_count": 165,
   "metadata": {},
   "outputs": [],
   "source": [
    "# проставим пол\n",
    "# male - 0, female - 1\n",
    "try:\n",
    "    all_data.Sex.replace(['male', 'female'], [0,1], inplace=True)\n",
    "except TypeError:\n",
    "    print('Проставлен числовой тип')\n",
    "    \n",
    "# нормируем данные пола\n",
    "max_val = max(all_data.Sex)\n",
    "min_val = min(all_data.Sex)\n",
    "all_data.Sex = [norm_data(x, min_val, max_val) for x in all_data.Sex]"
   ]
  },
  {
   "cell_type": "code",
   "execution_count": 166,
   "metadata": {},
   "outputs": [],
   "source": [
    "# проставим титул\n",
    "try:\n",
    "    all_data.Name.replace(['Mr', 'Other', 'Master', 'Miss', 'Mrs'], [0,1,2,3,4], inplace=True)\n",
    "except TypeError:\n",
    "    print('Проставлен числовой тип')\n",
    "    \n",
    "# нормируем данные титулов\n",
    "max_val = max(all_data.Name)\n",
    "min_val = min(all_data.Name)\n",
    "all_data.Name = [norm_data(x, min_val, max_val) for x in all_data.Name]"
   ]
  },
  {
   "cell_type": "code",
   "execution_count": 167,
   "metadata": {},
   "outputs": [],
   "source": [
    "# нормируем данные класса\n",
    "max_val = max(all_data.Pclass)\n",
    "min_val = min(all_data.Pclass)\n",
    "all_data.Pclass = [norm_data(x, min_val, max_val) for x in all_data.Pclass]"
   ]
  },
  {
   "cell_type": "code",
   "execution_count": 168,
   "metadata": {},
   "outputs": [],
   "source": [
    "# нормируем данные семьи\n",
    "max_val = max(all_data.Family)\n",
    "min_val = min(all_data.Family)\n",
    "all_data.Family = [norm_data(x, min_val, max_val) for x in all_data.Family]"
   ]
  },
  {
   "cell_type": "code",
   "execution_count": 169,
   "metadata": {},
   "outputs": [],
   "source": [
    "# нормируем данные возраста\n",
    "max_val = max(all_data.Age)\n",
    "min_val = min(all_data.Age)\n",
    "all_data.Age = [norm_data(x, min_val, max_val) for x in all_data.Age]"
   ]
  },
  {
   "cell_type": "code",
   "execution_count": 170,
   "metadata": {},
   "outputs": [],
   "source": [
    "# нормируем стоимость билетов\n",
    "max_val = max(all_data.Fare)\n",
    "min_val = min(all_data.Fare)\n",
    "all_data.Fare = [norm_data(x, min_val, max_val) for x in all_data.Fare]"
   ]
  },
  {
   "cell_type": "code",
   "execution_count": 171,
   "metadata": {},
   "outputs": [],
   "source": [
    "# нормируем кабины\n",
    "max_val = max(all_data.Cabin)\n",
    "min_val = min(all_data.Cabin)\n",
    "all_data.Cabin = [norm_data(x, min_val, max_val) for x in all_data.Cabin]"
   ]
  },
  {
   "cell_type": "code",
   "execution_count": 172,
   "metadata": {},
   "outputs": [],
   "source": [
    "# нормируем место посадки пассажиров\n",
    "\n",
    "# там где отсутсвие, проставим место отправки 'S', так как он самы частый\n",
    "all_data.loc[all_data.Embarked.isnull(), 'Embarked'] = 'S'\n",
    "\n",
    "# проставим место отправки\n",
    "try:\n",
    "    all_data.Embarked.replace(['S', 'Q', 'C'], [0,1,2], inplace=True)\n",
    "except TypeError:\n",
    "    print('Проставлен числовой тип')\n",
    "\n",
    "# нормируем место отправки\n",
    "max_val = max(all_data.Embarked)\n",
    "min_val = min(all_data.Embarked)\n",
    "all_data.Embarked = [norm_data(x, min_val, max_val) for x in all_data.Embarked]"
   ]
  },
  {
   "cell_type": "code",
   "execution_count": 173,
   "metadata": {},
   "outputs": [
    {
     "data": {
      "text/html": [
       "<div>\n",
       "<style scoped>\n",
       "    .dataframe tbody tr th:only-of-type {\n",
       "        vertical-align: middle;\n",
       "    }\n",
       "\n",
       "    .dataframe tbody tr th {\n",
       "        vertical-align: top;\n",
       "    }\n",
       "\n",
       "    .dataframe thead th {\n",
       "        text-align: right;\n",
       "    }\n",
       "</style>\n",
       "<table border=\"1\" class=\"dataframe\">\n",
       "  <thead>\n",
       "    <tr style=\"text-align: right;\">\n",
       "      <th></th>\n",
       "      <th>isAlone</th>\n",
       "    </tr>\n",
       "    <tr>\n",
       "      <th>Survived</th>\n",
       "      <th></th>\n",
       "    </tr>\n",
       "  </thead>\n",
       "  <tbody>\n",
       "    <tr>\n",
       "      <th>0.0</th>\n",
       "      <td>0.747231</td>\n",
       "    </tr>\n",
       "    <tr>\n",
       "      <th>1.0</th>\n",
       "      <td>0.505731</td>\n",
       "    </tr>\n",
       "  </tbody>\n",
       "</table>\n",
       "</div>"
      ],
      "text/plain": [
       "           isAlone\n",
       "Survived          \n",
       "0.0       0.747231\n",
       "1.0       0.505731"
      ]
     },
     "execution_count": 173,
     "metadata": {},
     "output_type": "execute_result"
    }
   ],
   "source": [
    "# нормируем isAlone\n",
    "max_val = max(all_data.isAlone)\n",
    "min_val = min(all_data.isAlone)\n",
    "all_data.isAlone = [norm_data(x, min_val, max_val) for x in all_data.isAlone]\n",
    "all_data[['isAlone','Survived']].groupby(['Survived']).mean()"
   ]
  },
  {
   "cell_type": "code",
   "execution_count": 174,
   "metadata": {},
   "outputs": [
    {
     "data": {
      "text/html": [
       "<div>\n",
       "<style scoped>\n",
       "    .dataframe tbody tr th:only-of-type {\n",
       "        vertical-align: middle;\n",
       "    }\n",
       "\n",
       "    .dataframe tbody tr th {\n",
       "        vertical-align: top;\n",
       "    }\n",
       "\n",
       "    .dataframe thead th {\n",
       "        text-align: right;\n",
       "    }\n",
       "</style>\n",
       "<table border=\"1\" class=\"dataframe\">\n",
       "  <thead>\n",
       "    <tr style=\"text-align: right;\">\n",
       "      <th></th>\n",
       "      <th>Age</th>\n",
       "      <th>Cabin</th>\n",
       "      <th>Embarked</th>\n",
       "      <th>Fare</th>\n",
       "      <th>Name</th>\n",
       "      <th>Parch</th>\n",
       "      <th>PassengerId</th>\n",
       "      <th>Pclass</th>\n",
       "      <th>Sex</th>\n",
       "      <th>SibSp</th>\n",
       "      <th>Survived</th>\n",
       "      <th>Ticket</th>\n",
       "      <th>Family</th>\n",
       "      <th>isAlone</th>\n",
       "    </tr>\n",
       "  </thead>\n",
       "  <tbody>\n",
       "    <tr>\n",
       "      <th>0</th>\n",
       "      <td>0.255</td>\n",
       "      <td>0.010000</td>\n",
       "      <td>0.01</td>\n",
       "      <td>0.017851</td>\n",
       "      <td>0.010</td>\n",
       "      <td>0</td>\n",
       "      <td>1</td>\n",
       "      <td>0.99</td>\n",
       "      <td>0.01</td>\n",
       "      <td>1</td>\n",
       "      <td>0.0</td>\n",
       "      <td>A/5 21171</td>\n",
       "      <td>0.500</td>\n",
       "      <td>0.01</td>\n",
       "    </tr>\n",
       "    <tr>\n",
       "      <th>1</th>\n",
       "      <td>0.500</td>\n",
       "      <td>0.663333</td>\n",
       "      <td>0.99</td>\n",
       "      <td>0.141099</td>\n",
       "      <td>0.990</td>\n",
       "      <td>0</td>\n",
       "      <td>2</td>\n",
       "      <td>0.01</td>\n",
       "      <td>0.99</td>\n",
       "      <td>1</td>\n",
       "      <td>1.0</td>\n",
       "      <td>PC 17599</td>\n",
       "      <td>0.500</td>\n",
       "      <td>0.01</td>\n",
       "    </tr>\n",
       "    <tr>\n",
       "      <th>2</th>\n",
       "      <td>0.255</td>\n",
       "      <td>0.010000</td>\n",
       "      <td>0.01</td>\n",
       "      <td>0.019151</td>\n",
       "      <td>0.745</td>\n",
       "      <td>0</td>\n",
       "      <td>3</td>\n",
       "      <td>0.99</td>\n",
       "      <td>0.99</td>\n",
       "      <td>0</td>\n",
       "      <td>1.0</td>\n",
       "      <td>STON/O2. 3101282</td>\n",
       "      <td>0.255</td>\n",
       "      <td>0.99</td>\n",
       "    </tr>\n",
       "    <tr>\n",
       "      <th>3</th>\n",
       "      <td>0.500</td>\n",
       "      <td>0.663333</td>\n",
       "      <td>0.01</td>\n",
       "      <td>0.106101</td>\n",
       "      <td>0.990</td>\n",
       "      <td>0</td>\n",
       "      <td>4</td>\n",
       "      <td>0.01</td>\n",
       "      <td>0.99</td>\n",
       "      <td>1</td>\n",
       "      <td>1.0</td>\n",
       "      <td>113803</td>\n",
       "      <td>0.500</td>\n",
       "      <td>0.01</td>\n",
       "    </tr>\n",
       "    <tr>\n",
       "      <th>4</th>\n",
       "      <td>0.500</td>\n",
       "      <td>0.010000</td>\n",
       "      <td>0.01</td>\n",
       "      <td>0.019391</td>\n",
       "      <td>0.010</td>\n",
       "      <td>0</td>\n",
       "      <td>5</td>\n",
       "      <td>0.99</td>\n",
       "      <td>0.01</td>\n",
       "      <td>0</td>\n",
       "      <td>0.0</td>\n",
       "      <td>373450</td>\n",
       "      <td>0.255</td>\n",
       "      <td>0.99</td>\n",
       "    </tr>\n",
       "    <tr>\n",
       "      <th>5</th>\n",
       "      <td>0.500</td>\n",
       "      <td>0.010000</td>\n",
       "      <td>0.50</td>\n",
       "      <td>0.020177</td>\n",
       "      <td>0.010</td>\n",
       "      <td>0</td>\n",
       "      <td>6</td>\n",
       "      <td>0.99</td>\n",
       "      <td>0.01</td>\n",
       "      <td>0</td>\n",
       "      <td>0.0</td>\n",
       "      <td>330877</td>\n",
       "      <td>0.255</td>\n",
       "      <td>0.99</td>\n",
       "    </tr>\n",
       "    <tr>\n",
       "      <th>6</th>\n",
       "      <td>0.745</td>\n",
       "      <td>0.990000</td>\n",
       "      <td>0.01</td>\n",
       "      <td>0.103719</td>\n",
       "      <td>0.010</td>\n",
       "      <td>0</td>\n",
       "      <td>7</td>\n",
       "      <td>0.01</td>\n",
       "      <td>0.01</td>\n",
       "      <td>0</td>\n",
       "      <td>0.0</td>\n",
       "      <td>17463</td>\n",
       "      <td>0.255</td>\n",
       "      <td>0.99</td>\n",
       "    </tr>\n",
       "    <tr>\n",
       "      <th>7</th>\n",
       "      <td>0.010</td>\n",
       "      <td>0.010000</td>\n",
       "      <td>0.01</td>\n",
       "      <td>0.044461</td>\n",
       "      <td>0.500</td>\n",
       "      <td>1</td>\n",
       "      <td>8</td>\n",
       "      <td>0.99</td>\n",
       "      <td>0.01</td>\n",
       "      <td>3</td>\n",
       "      <td>0.0</td>\n",
       "      <td>349909</td>\n",
       "      <td>0.255</td>\n",
       "      <td>0.99</td>\n",
       "    </tr>\n",
       "    <tr>\n",
       "      <th>8</th>\n",
       "      <td>0.255</td>\n",
       "      <td>0.010000</td>\n",
       "      <td>0.01</td>\n",
       "      <td>0.025326</td>\n",
       "      <td>0.990</td>\n",
       "      <td>2</td>\n",
       "      <td>9</td>\n",
       "      <td>0.99</td>\n",
       "      <td>0.99</td>\n",
       "      <td>0</td>\n",
       "      <td>1.0</td>\n",
       "      <td>347742</td>\n",
       "      <td>0.745</td>\n",
       "      <td>0.01</td>\n",
       "    </tr>\n",
       "    <tr>\n",
       "      <th>9</th>\n",
       "      <td>0.010</td>\n",
       "      <td>0.010000</td>\n",
       "      <td>0.99</td>\n",
       "      <td>0.061776</td>\n",
       "      <td>0.990</td>\n",
       "      <td>0</td>\n",
       "      <td>10</td>\n",
       "      <td>0.50</td>\n",
       "      <td>0.99</td>\n",
       "      <td>1</td>\n",
       "      <td>1.0</td>\n",
       "      <td>237736</td>\n",
       "      <td>0.500</td>\n",
       "      <td>0.01</td>\n",
       "    </tr>\n",
       "  </tbody>\n",
       "</table>\n",
       "</div>"
      ],
      "text/plain": [
       "     Age     Cabin  Embarked      Fare   Name  Parch  PassengerId  Pclass  \\\n",
       "0  0.255  0.010000      0.01  0.017851  0.010      0            1    0.99   \n",
       "1  0.500  0.663333      0.99  0.141099  0.990      0            2    0.01   \n",
       "2  0.255  0.010000      0.01  0.019151  0.745      0            3    0.99   \n",
       "3  0.500  0.663333      0.01  0.106101  0.990      0            4    0.01   \n",
       "4  0.500  0.010000      0.01  0.019391  0.010      0            5    0.99   \n",
       "5  0.500  0.010000      0.50  0.020177  0.010      0            6    0.99   \n",
       "6  0.745  0.990000      0.01  0.103719  0.010      0            7    0.01   \n",
       "7  0.010  0.010000      0.01  0.044461  0.500      1            8    0.99   \n",
       "8  0.255  0.010000      0.01  0.025326  0.990      2            9    0.99   \n",
       "9  0.010  0.010000      0.99  0.061776  0.990      0           10    0.50   \n",
       "\n",
       "    Sex  SibSp  Survived            Ticket  Family  isAlone  \n",
       "0  0.01      1       0.0         A/5 21171   0.500     0.01  \n",
       "1  0.99      1       1.0          PC 17599   0.500     0.01  \n",
       "2  0.99      0       1.0  STON/O2. 3101282   0.255     0.99  \n",
       "3  0.99      1       1.0            113803   0.500     0.01  \n",
       "4  0.01      0       0.0            373450   0.255     0.99  \n",
       "5  0.01      0       0.0            330877   0.255     0.99  \n",
       "6  0.01      0       0.0             17463   0.255     0.99  \n",
       "7  0.01      3       0.0            349909   0.255     0.99  \n",
       "8  0.99      0       1.0            347742   0.745     0.01  \n",
       "9  0.99      1       1.0            237736   0.500     0.01  "
      ]
     },
     "execution_count": 174,
     "metadata": {},
     "output_type": "execute_result"
    }
   ],
   "source": [
    "# итак смотрим на данные 10 первых строк\n",
    "all_data[:10]"
   ]
  },
  {
   "cell_type": "code",
   "execution_count": 175,
   "metadata": {},
   "outputs": [
    {
     "data": {
      "text/html": [
       "<div>\n",
       "<style scoped>\n",
       "    .dataframe tbody tr th:only-of-type {\n",
       "        vertical-align: middle;\n",
       "    }\n",
       "\n",
       "    .dataframe tbody tr th {\n",
       "        vertical-align: top;\n",
       "    }\n",
       "\n",
       "    .dataframe thead th {\n",
       "        text-align: right;\n",
       "    }\n",
       "</style>\n",
       "<table border=\"1\" class=\"dataframe\">\n",
       "  <thead>\n",
       "    <tr style=\"text-align: right;\">\n",
       "      <th></th>\n",
       "      <th>Name</th>\n",
       "      <th>Pclass</th>\n",
       "      <th>Age</th>\n",
       "      <th>Sex</th>\n",
       "      <th>Fare</th>\n",
       "      <th>Family</th>\n",
       "      <th>Embarked</th>\n",
       "      <th>Cabin</th>\n",
       "      <th>Survived</th>\n",
       "      <th>isAlone</th>\n",
       "    </tr>\n",
       "  </thead>\n",
       "  <tbody>\n",
       "    <tr>\n",
       "      <th>0</th>\n",
       "      <td>0.010</td>\n",
       "      <td>0.99</td>\n",
       "      <td>0.255</td>\n",
       "      <td>0.01</td>\n",
       "      <td>0.017851</td>\n",
       "      <td>0.500</td>\n",
       "      <td>0.01</td>\n",
       "      <td>0.010000</td>\n",
       "      <td>0.0</td>\n",
       "      <td>0.01</td>\n",
       "    </tr>\n",
       "    <tr>\n",
       "      <th>1</th>\n",
       "      <td>0.990</td>\n",
       "      <td>0.01</td>\n",
       "      <td>0.500</td>\n",
       "      <td>0.99</td>\n",
       "      <td>0.141099</td>\n",
       "      <td>0.500</td>\n",
       "      <td>0.99</td>\n",
       "      <td>0.663333</td>\n",
       "      <td>1.0</td>\n",
       "      <td>0.01</td>\n",
       "    </tr>\n",
       "    <tr>\n",
       "      <th>2</th>\n",
       "      <td>0.745</td>\n",
       "      <td>0.99</td>\n",
       "      <td>0.255</td>\n",
       "      <td>0.99</td>\n",
       "      <td>0.019151</td>\n",
       "      <td>0.255</td>\n",
       "      <td>0.01</td>\n",
       "      <td>0.010000</td>\n",
       "      <td>1.0</td>\n",
       "      <td>0.99</td>\n",
       "    </tr>\n",
       "    <tr>\n",
       "      <th>3</th>\n",
       "      <td>0.990</td>\n",
       "      <td>0.01</td>\n",
       "      <td>0.500</td>\n",
       "      <td>0.99</td>\n",
       "      <td>0.106101</td>\n",
       "      <td>0.500</td>\n",
       "      <td>0.01</td>\n",
       "      <td>0.663333</td>\n",
       "      <td>1.0</td>\n",
       "      <td>0.01</td>\n",
       "    </tr>\n",
       "    <tr>\n",
       "      <th>4</th>\n",
       "      <td>0.010</td>\n",
       "      <td>0.99</td>\n",
       "      <td>0.500</td>\n",
       "      <td>0.01</td>\n",
       "      <td>0.019391</td>\n",
       "      <td>0.255</td>\n",
       "      <td>0.01</td>\n",
       "      <td>0.010000</td>\n",
       "      <td>0.0</td>\n",
       "      <td>0.99</td>\n",
       "    </tr>\n",
       "    <tr>\n",
       "      <th>5</th>\n",
       "      <td>0.010</td>\n",
       "      <td>0.99</td>\n",
       "      <td>0.500</td>\n",
       "      <td>0.01</td>\n",
       "      <td>0.020177</td>\n",
       "      <td>0.255</td>\n",
       "      <td>0.50</td>\n",
       "      <td>0.010000</td>\n",
       "      <td>0.0</td>\n",
       "      <td>0.99</td>\n",
       "    </tr>\n",
       "    <tr>\n",
       "      <th>6</th>\n",
       "      <td>0.010</td>\n",
       "      <td>0.01</td>\n",
       "      <td>0.745</td>\n",
       "      <td>0.01</td>\n",
       "      <td>0.103719</td>\n",
       "      <td>0.255</td>\n",
       "      <td>0.01</td>\n",
       "      <td>0.990000</td>\n",
       "      <td>0.0</td>\n",
       "      <td>0.99</td>\n",
       "    </tr>\n",
       "    <tr>\n",
       "      <th>7</th>\n",
       "      <td>0.500</td>\n",
       "      <td>0.99</td>\n",
       "      <td>0.010</td>\n",
       "      <td>0.01</td>\n",
       "      <td>0.044461</td>\n",
       "      <td>0.255</td>\n",
       "      <td>0.01</td>\n",
       "      <td>0.010000</td>\n",
       "      <td>0.0</td>\n",
       "      <td>0.99</td>\n",
       "    </tr>\n",
       "    <tr>\n",
       "      <th>8</th>\n",
       "      <td>0.990</td>\n",
       "      <td>0.99</td>\n",
       "      <td>0.255</td>\n",
       "      <td>0.99</td>\n",
       "      <td>0.025326</td>\n",
       "      <td>0.745</td>\n",
       "      <td>0.01</td>\n",
       "      <td>0.010000</td>\n",
       "      <td>1.0</td>\n",
       "      <td>0.01</td>\n",
       "    </tr>\n",
       "    <tr>\n",
       "      <th>9</th>\n",
       "      <td>0.990</td>\n",
       "      <td>0.50</td>\n",
       "      <td>0.010</td>\n",
       "      <td>0.99</td>\n",
       "      <td>0.061776</td>\n",
       "      <td>0.500</td>\n",
       "      <td>0.99</td>\n",
       "      <td>0.010000</td>\n",
       "      <td>1.0</td>\n",
       "      <td>0.01</td>\n",
       "    </tr>\n",
       "  </tbody>\n",
       "</table>\n",
       "</div>"
      ],
      "text/plain": [
       "    Name  Pclass    Age   Sex      Fare  Family  Embarked     Cabin  Survived  \\\n",
       "0  0.010    0.99  0.255  0.01  0.017851   0.500      0.01  0.010000       0.0   \n",
       "1  0.990    0.01  0.500  0.99  0.141099   0.500      0.99  0.663333       1.0   \n",
       "2  0.745    0.99  0.255  0.99  0.019151   0.255      0.01  0.010000       1.0   \n",
       "3  0.990    0.01  0.500  0.99  0.106101   0.500      0.01  0.663333       1.0   \n",
       "4  0.010    0.99  0.500  0.01  0.019391   0.255      0.01  0.010000       0.0   \n",
       "5  0.010    0.99  0.500  0.01  0.020177   0.255      0.50  0.010000       0.0   \n",
       "6  0.010    0.01  0.745  0.01  0.103719   0.255      0.01  0.990000       0.0   \n",
       "7  0.500    0.99  0.010  0.01  0.044461   0.255      0.01  0.010000       0.0   \n",
       "8  0.990    0.99  0.255  0.99  0.025326   0.745      0.01  0.010000       1.0   \n",
       "9  0.990    0.50  0.010  0.99  0.061776   0.500      0.99  0.010000       1.0   \n",
       "\n",
       "   isAlone  \n",
       "0     0.01  \n",
       "1     0.01  \n",
       "2     0.99  \n",
       "3     0.01  \n",
       "4     0.99  \n",
       "5     0.99  \n",
       "6     0.99  \n",
       "7     0.99  \n",
       "8     0.01  \n",
       "9     0.01  "
      ]
     },
     "execution_count": 175,
     "metadata": {},
     "output_type": "execute_result"
    }
   ],
   "source": [
    "# как видно по таблице мы не взяли только \"Ticket\"\n",
    "# отбираем нужные фичи\n",
    "need_data = all_data[['Name', 'Pclass', 'Age', 'Sex', 'Fare', 'Family', 'Embarked', 'Cabin', 'Survived', 'isAlone']]\n",
    "need_data[:10]\n"
   ]
  },
  {
   "cell_type": "markdown",
   "metadata": {},
   "source": [
    "## Машинное обучение"
   ]
  },
  {
   "cell_type": "code",
   "execution_count": 176,
   "metadata": {},
   "outputs": [],
   "source": [
    "# итак данные готовы, переходим к моделям машинного обучения библиотеки sklearn"
   ]
  },
  {
   "cell_type": "code",
   "execution_count": 177,
   "metadata": {},
   "outputs": [],
   "source": [
    "# импортируем библиотеки\n",
    "\n",
    "import sklearn.datasets\n",
    "import mglearn\n",
    "from sklearn.model_selection import train_test_split"
   ]
  },
  {
   "cell_type": "code",
   "execution_count": 178,
   "metadata": {},
   "outputs": [],
   "source": [
    "# формируем данные\n",
    "\n",
    "#[['Name', 'Pclass', 'Age', 'Sex', 'Fare', 'Family', 'Embarked', 'Cabin']]\n",
    "# можно удалять что считаете не нужным\n",
    "train_data = need_data[['Name', 'Pclass', 'Age', 'Sex', 'Fare', 'Family', 'Embarked', 'Cabin', 'isAlone']][:891]\n",
    "test_data = need_data[['Name', 'Pclass', 'Age', 'Sex', 'Fare', 'Family', 'Embarked', 'Cabin', 'isAlone']][891:]\n",
    "target_data = need_data['Survived'][:891]\n",
    "\n",
    "# записываем в объект Brunch нашу дату (тренировочную)\n",
    "train_brunch = sklearn.datasets.base.Bunch(data=train_data, target=target_data)\n",
    "\n",
    "# записываем в объект Brunch нашу дату (тестувую)\n",
    "test_brunch = sklearn.datasets.base.Bunch(data=test_data, target=0)"
   ]
  },
  {
   "cell_type": "code",
   "execution_count": 179,
   "metadata": {},
   "outputs": [],
   "source": [
    "# параметры модели\n",
    "\n",
    "# размерность локального тестового набора данных\n",
    "test_size = 0.15"
   ]
  },
  {
   "cell_type": "code",
   "execution_count": 180,
   "metadata": {},
   "outputs": [],
   "source": [
    "# разбиваем выборку тренировочных данных на обучающую и локально тестувую\n",
    "\n",
    "X_train, X_test, y_train, y_test = train_test_split(\n",
    "train_brunch['data'], train_brunch['target'], train_size = (1- test_size), test_size = test_size)"
   ]
  },
  {
   "cell_type": "code",
   "execution_count": 181,
   "metadata": {},
   "outputs": [],
   "source": [
    "# # посмотрим на наши данные в диаграмме рассеивания\n",
    "\n",
    "# # создаем матрицу рассеяния из dataframe, цвет точек задаем с помощью y_train\n",
    "# grr = pd.plotting.scatter_matrix(train_data, c=target_data, figsize=(15, 15), marker='o',\n",
    "# hist_kwds={'bins': 20}, s=60, alpha=.8, cmap=mglearn.cm3)"
   ]
  },
  {
   "cell_type": "markdown",
   "metadata": {},
   "source": [
    "##### KNN"
   ]
  },
  {
   "cell_type": "code",
   "execution_count": 182,
   "metadata": {},
   "outputs": [],
   "source": [
    "# импортируем класс\n",
    "from sklearn.neighbors import KNeighborsClassifier"
   ]
  },
  {
   "cell_type": "code",
   "execution_count": 183,
   "metadata": {},
   "outputs": [
    {
     "data": {
      "text/plain": [
       "<matplotlib.legend.Legend at 0x4e12c50>"
      ]
     },
     "execution_count": 183,
     "metadata": {},
     "output_type": "execute_result"
    },
    {
     "data": {
      "image/png": "[encoded data removed]",
      "text/plain": [
       "<matplotlib.figure.Figure at 0x4deddd0>"
      ]
     },
     "metadata": {},
     "output_type": "display_data"
    }
   ],
   "source": [
    "# постараемся найти оптимальное кол-во соседей\n",
    "\n",
    "# мы могли бы просто прогнать одним циклом кол-во соседей, а затем\n",
    "# выбрать из тестовых файлов наилучший, однако я считаю это неверным, \n",
    "# т.к. тестовая выборка может быть нерепрезентативной, для этого\n",
    "# запустим еще один цикл по разбивке и на каждой итерации посмотрим результат,\n",
    "# затем усредним его и выведем на график для отбора наиболее устойчивых параметров\n",
    "\n",
    "# сюда будут попадать уже усредненые значения\n",
    "training_accuracy = []\n",
    "test_accuracy = []\n",
    "\n",
    "# возьмем кол-во соседей от 1 до 10 \n",
    "neighbors_settings = range(1, 11)\n",
    "for n_neighbors in neighbors_settings:\n",
    "    # записываем каждое решение для последующего усреднения\n",
    "    training_accuracy_avg = []\n",
    "    test_accuracy_avg = []\n",
    "    # кол-во прогонов по тестовым выборкам с разным разбиением\n",
    "    for _ in range(1,25):\n",
    "        X_train, X_test, y_train, y_test = train_test_split(\n",
    "        train_brunch['data'], train_brunch['target'], train_size = (1- test_size), test_size = test_size)\n",
    "        # строим модель\n",
    "        knn_optima = KNeighborsClassifier(n_neighbors=n_neighbors)\n",
    "        knn_optima.fit(X_train, y_train)\n",
    "        training_accuracy_avg.append(knn_optima.score(X_train, y_train))\n",
    "        test_accuracy_avg.append(knn_optima.score(X_test, y_test))\n",
    "    # записываем правильность на обучающем наборе\n",
    "    training_accuracy.append(np.mean(training_accuracy_avg))\n",
    "    # записываем правильность на тестовом наборе\n",
    "    test_accuracy.append(np.mean(test_accuracy_avg))\n",
    "    \n",
    "plt.plot(neighbors_settings, training_accuracy, label=\"правильность на обучающем наборе\")\n",
    "plt.plot(neighbors_settings, test_accuracy, label=\"правильность на тестовом наборе\")\n",
    "plt.ylabel(\"Правильность\")\n",
    "plt.xlabel(\"количество соседей\")\n",
    "plt.legend()"
   ]
  },
  {
   "cell_type": "code",
   "execution_count": 184,
   "metadata": {},
   "outputs": [
    {
     "name": "stdout",
     "output_type": "stream",
     "text": [
      "Максимальный результат при кол-ве: 7\n",
      "Значение: 0.8162313432835822\n"
     ]
    }
   ],
   "source": [
    "# смотрим где наиболее оптимально кол-во соседей\n",
    "print('Максимальный результат при кол-ве: ' + str(np.argmax(test_accuracy)+1))\n",
    "print('Значение: ' + str(np.max(test_accuracy)))"
   ]
  },
  {
   "cell_type": "code",
   "execution_count": 185,
   "metadata": {},
   "outputs": [
    {
     "name": "stdout",
     "output_type": "stream",
     "text": [
      "Правильность на тестовом наборе KNN: 0.7835820895522388\n"
     ]
    }
   ],
   "source": [
    "# согласно тесту, ставим соответствующее значение в объект knn(n_neighbors)\n",
    "\n",
    "# создаем экземпляр модели\n",
    "knn = KNeighborsClassifier(n_neighbors=11)\n",
    "# обучаем модель k-ближайших соседей\n",
    "knn.fit(X_train, y_train)\n",
    "# смотрим результат\n",
    "print('Правильность на тестовом наборе KNN: ' + str(knn.score(X_test, y_test)))"
   ]
  },
  {
   "cell_type": "markdown",
   "metadata": {},
   "source": [
    "##### Логистическая регрессия"
   ]
  },
  {
   "cell_type": "code",
   "execution_count": 186,
   "metadata": {},
   "outputs": [
    {
     "name": "stdout",
     "output_type": "stream",
     "text": [
      "Правильность на обучающем наборе KNN: 0.8163804491413474\n",
      "Правильность на тестовом наборе KNN: 0.8059701492537313\n"
     ]
    }
   ],
   "source": [
    "from sklearn.linear_model import LinearRegression\n",
    "# создаем экземпляр модели\n",
    "lr = LinearRegression()\n",
    "# обучаем модель\n",
    "lr.fit(X_train, y_train)\n",
    "# смотрим результат\n",
    "# print('Правильность на тестовом наборе KNN: ' + str(lr.score(X_test, y_test)))\n",
    "print('Правильность на обучающем наборе KNN: ' + str(np.mean(np.round(lr.predict(X_train))==y_train)))\n",
    "print('Правильность на тестовом наборе KNN: ' + str(np.mean(np.round(lr.predict(X_test))==y_test)))"
   ]
  },
  {
   "cell_type": "markdown",
   "metadata": {},
   "source": [
    "##### Гребневая регрессия"
   ]
  },
  {
   "cell_type": "code",
   "execution_count": 187,
   "metadata": {},
   "outputs": [
    {
     "name": "stdout",
     "output_type": "stream",
     "text": [
      "Правильность на обучающем наборе:0.8058124174372523\n",
      "Правильность на тестовом наборе:0.7910447761194029\n"
     ]
    }
   ],
   "source": [
    "from sklearn.linear_model import Ridge\n",
    "ridge = Ridge(alpha=10)\n",
    "ridge.fit(X_train, y_train)\n",
    "print('Правильность на обучающем наборе:' + str(np.mean(np.round(ridge.predict(X_train))==y_train)))\n",
    "print('Правильность на тестовом наборе:' + str(np.mean(np.round(ridge.predict(X_test))==y_test)))"
   ]
  },
  {
   "cell_type": "markdown",
   "metadata": {},
   "source": [
    "##### Логистическая регрессия"
   ]
  },
  {
   "cell_type": "code",
   "execution_count": 188,
   "metadata": {},
   "outputs": [
    {
     "name": "stdout",
     "output_type": "stream",
     "text": [
      "Правильность на обучающем наборе:0.8282694848084544\n",
      "Правильность на тестовом наборе:0.7761194029850746\n"
     ]
    }
   ],
   "source": [
    "from sklearn.linear_model import LogisticRegression\n",
    "\n",
    "logreg = LogisticRegression(C=5)\n",
    "logreg.fit(X_train, y_train)\n",
    "\n",
    "print('Правильность на обучающем наборе:' + str(np.mean(np.round(logreg.predict(X_train))==y_train)))\n",
    "print('Правильность на тестовом наборе:' + str(np.mean(np.round(logreg.predict(X_test))==y_test)))"
   ]
  },
  {
   "cell_type": "markdown",
   "metadata": {},
   "source": [
    "##### SVM (линейный)"
   ]
  },
  {
   "cell_type": "code",
   "execution_count": 189,
   "metadata": {},
   "outputs": [
    {
     "name": "stdout",
     "output_type": "stream",
     "text": [
      "Правильность на обучающем наборе:0.8150594451783355\n",
      "Правильность на тестовом наборе:0.7910447761194029\n"
     ]
    }
   ],
   "source": [
    "from sklearn.svm import LinearSVC\n",
    "\n",
    "svc = LinearSVC()\n",
    "svc.fit(X_train, y_train)\n",
    "\n",
    "print('Правильность на обучающем наборе:' + str(np.mean(np.round(svc.predict(X_train))==y_train)))\n",
    "print('Правильность на тестовом наборе:' + str(np.mean(np.round(svc.predict(X_test))==y_test)))"
   ]
  },
  {
   "cell_type": "markdown",
   "metadata": {},
   "source": [
    "##### NAIVE BAYES"
   ]
  },
  {
   "cell_type": "code",
   "execution_count": 190,
   "metadata": {},
   "outputs": [
    {
     "name": "stdout",
     "output_type": "stream",
     "text": [
      "Правильность на обучающем наборе:0.7873183619550859\n",
      "Правильность на тестовом наборе:0.7686567164179104\n"
     ]
    }
   ],
   "source": [
    "from sklearn.naive_bayes import GaussianNB\n",
    "\n",
    "gsNB = GaussianNB()\n",
    "gsNB.fit(X_train, y_train)\n",
    "\n",
    "print('Правильность на обучающем наборе:' + str(np.mean(np.round(gsNB.predict(X_train))==y_train)))\n",
    "print('Правильность на тестовом наборе:' + str(np.mean(np.round(gsNB.predict(X_test))==y_test)))"
   ]
  },
  {
   "cell_type": "markdown",
   "metadata": {},
   "source": [
    "##### Decision Tree"
   ]
  },
  {
   "cell_type": "code",
   "execution_count": 191,
   "metadata": {},
   "outputs": [
    {
     "name": "stdout",
     "output_type": "stream",
     "text": [
      "Правильность на обучающем наборе:0.8322324966974901\n",
      "Правильность на тестовом наборе:0.8208955223880597\n",
      "--------------------------------------------------\n",
      "Name 59.94\n",
      "Pclass 20.84\n",
      "Age 0.0\n",
      "Sex 0.0\n",
      "Fare 11.3\n",
      "Family 0.0\n",
      "Embarked 0.0\n",
      "Cabin 7.93\n",
      "isAlone 0.0\n"
     ]
    }
   ],
   "source": [
    "from sklearn.tree import DecisionTreeClassifier\n",
    "\n",
    "# хоть деревья решений склонны к переобучению и имеют достаточно низкую обобщая способность посмотрим на них,\n",
    "# после чего перейдем к самому интересному\n",
    "\n",
    "tree = DecisionTreeClassifier(random_state=0,max_depth=3)\n",
    "tree.fit(X_train, y_train)\n",
    "\n",
    "print('Правильность на обучающем наборе:' + str(np.mean(np.round(tree.predict(X_train))==y_train)))\n",
    "print('Правильность на тестовом наборе:' + str(np.mean(np.round(tree.predict(X_test))==y_test)))\n",
    "print('-'*50)\n",
    "# сформируем важности признаков\n",
    "for name, score in zip(X_train.keys(), tree.feature_importances_):\n",
    "    print(name, np.round(score*100,2))"
   ]
  },
  {
   "cell_type": "markdown",
   "metadata": {},
   "source": [
    "##### Random Forest"
   ]
  },
  {
   "cell_type": "code",
   "execution_count": 192,
   "metadata": {},
   "outputs": [
    {
     "name": "stdout",
     "output_type": "stream",
     "text": [
      "Правильность на обучающем наборе:0.9471598414795245\n",
      "Правильность на тестовом наборе:0.7686567164179104\n",
      "--------------------------------------------------\n",
      "Name 24.07\n",
      "Pclass 8.98\n",
      "Age 6.4\n",
      "Sex 16.09\n",
      "Fare 24.98\n",
      "Family 5.73\n",
      "Embarked 3.78\n",
      "Cabin 8.26\n",
      "isAlone 1.72\n"
     ]
    }
   ],
   "source": [
    "from sklearn.ensemble import RandomForestClassifier\n",
    "\n",
    "# создадим заново тренировочную и тестувую выборки\n",
    "\n",
    "X_train, X_test, y_train, y_test = train_test_split(\n",
    "train_brunch['data'], train_brunch['target'], train_size = (1- test_size), test_size = test_size)\n",
    "\n",
    "forest = RandomForestClassifier(n_estimators=1000, max_features=3, random_state=0, max_depth=10)\n",
    "forest.fit(X_train, y_train)\n",
    "\n",
    "print('Правильность на обучающем наборе:' + str(np.mean(np.round(forest.predict(X_train))==y_train)))\n",
    "print('Правильность на тестовом наборе:' + str(np.mean(np.round(forest.predict(X_test))==y_test)))\n",
    "print('-'*50)\n",
    "# сформируем важности признаков\n",
    "for name, score in zip(X_train.keys(), forest.feature_importances_):\n",
    "    print(name, np.round(score*100,2))\n",
    "    "
   ]
  },
  {
   "cell_type": "code",
   "execution_count": 193,
   "metadata": {},
   "outputs": [],
   "source": [
    "# оптимизация параметров для случайного леса\n",
    "\n",
    "# # сюда будут попадать уже усредненые значения\n",
    "# training_accuracy = []\n",
    "# test_accuracy = []\n",
    "\n",
    "# optima_parameter = range(1, 8)\n",
    "# for optima in optima_parameter:\n",
    "#     # записываем каждое решение для последующего усреднения\n",
    "#     training_accuracy_avg = []\n",
    "#     test_accuracy_avg = []\n",
    "#     # кол-во прогонов по тестовым выборкам с разным разбиением\n",
    "#     for _ in range(1,20):\n",
    "#         X_train, X_test, y_train, y_test = train_test_split(\n",
    "#         train_brunch['data'], train_brunch['target'], train_size = (1- test_size), test_size = test_size)\n",
    "#         # строим модель\n",
    "#         forest_optima = RandomForestClassifier(n_estimators=200, max_features=3, random_state=0, max_depth=4)\n",
    "#         forest_optima.fit(X_train, y_train)\n",
    "#         training_accuracy_avg.append(forest_optima.score(X_train, y_train))\n",
    "#         test_accuracy_avg.append(forest_optima.score(X_test, y_test))\n",
    "#     # записываем правильность на обучающем наборе\n",
    "#     training_accuracy.append(np.mean(training_accuracy_avg))\n",
    "#     # записываем правильность на тестовом наборе\n",
    "#     test_accuracy.append(np.mean(test_accuracy_avg))\n",
    "    \n",
    "# plt.plot(optima_parameter, training_accuracy, label=\"правильность на обучающем наборе\")\n",
    "# plt.plot(optima_parameter, test_accuracy, label=\"правильность на тестовом наборе\")\n",
    "# plt.ylabel(\"Правильность\")\n",
    "# plt.legend()"
   ]
  },
  {
   "cell_type": "code",
   "execution_count": 194,
   "metadata": {},
   "outputs": [
    {
     "data": {
      "text/html": [
       "<div>\n",
       "<style scoped>\n",
       "    .dataframe tbody tr th:only-of-type {\n",
       "        vertical-align: middle;\n",
       "    }\n",
       "\n",
       "    .dataframe tbody tr th {\n",
       "        vertical-align: top;\n",
       "    }\n",
       "\n",
       "    .dataframe thead th {\n",
       "        text-align: right;\n",
       "    }\n",
       "</style>\n",
       "<table border=\"1\" class=\"dataframe\">\n",
       "  <thead>\n",
       "    <tr style=\"text-align: right;\">\n",
       "      <th></th>\n",
       "      <th>isAlone</th>\n",
       "    </tr>\n",
       "    <tr>\n",
       "      <th>Survived</th>\n",
       "      <th></th>\n",
       "    </tr>\n",
       "  </thead>\n",
       "  <tbody>\n",
       "    <tr>\n",
       "      <th>0.0</th>\n",
       "      <td>0.747231</td>\n",
       "    </tr>\n",
       "    <tr>\n",
       "      <th>1.0</th>\n",
       "      <td>0.505731</td>\n",
       "    </tr>\n",
       "  </tbody>\n",
       "</table>\n",
       "</div>"
      ],
      "text/plain": [
       "           isAlone\n",
       "Survived          \n",
       "0.0       0.747231\n",
       "1.0       0.505731"
      ]
     },
     "execution_count": 194,
     "metadata": {},
     "output_type": "execute_result"
    }
   ],
   "source": [
    "all_data[['isAlone','Survived']].groupby(['Survived']).mean()"
   ]
  },
  {
   "cell_type": "markdown",
   "metadata": {},
   "source": [
    "##### Neural Network"
   ]
  },
  {
   "cell_type": "code",
   "execution_count": 195,
   "metadata": {},
   "outputs": [
    {
     "name": "stdout",
     "output_type": "stream",
     "text": [
      "Правильность на обучающем наборе:0.8414795244385733\n",
      "Правильность на тестовом наборе:0.8134328358208955\n"
     ]
    }
   ],
   "source": [
    "from sklearn.neural_network import MLPClassifier\n",
    "\n",
    "X_train, X_test, y_train, y_test = train_test_split(\n",
    "train_brunch['data'], train_brunch['target'], train_size = (1- test_size), test_size = test_size)\n",
    "\n",
    "mlp = MLPClassifier(solver='lbfgs', random_state=0, max_iter=1000, alpha=1, hidden_layer_sizes=[9], activation='tanh')\n",
    "mlp.fit(X_train, y_train)\n",
    "print('Правильность на обучающем наборе:' + str(np.mean(np.round(mlp.predict(X_train))==y_train)))\n",
    "print('Правильность на тестовом наборе:' + str(np.mean(np.round(mlp.predict(X_test))==y_test)))"
   ]
  },
  {
   "cell_type": "code",
   "execution_count": 196,
   "metadata": {},
   "outputs": [],
   "source": [
    "# кидаем в буфер решение, если надо\n",
    "exo(mlp.predict(test_brunch.data).T)"
   ]
  },
  {
   "cell_type": "code",
   "execution_count": 197,
   "metadata": {},
   "outputs": [],
   "source": [
    "# итак, решения на Kaggle я выкладывал порядка 20-30 раз, разные подходы с разными параметрами\n",
    "# неронные сети с ходу с фичами всеми, кроме номеров билетов, выдавала от 78 до 79.904\n",
    "# но наша цель была войти в первую 1000, поэтому пошел дальше и на пике случайный лес выдал 81.339,\n",
    "# что позволилио занять 503 место из 10000, неплохой результат как по мне.\n",
    "\n",
    "# параметры пикого значения случайного леса\n",
    "# features :(Name, Pclass, Age, Sex, Fare, Family, Embarked, Cabin)\n",
    "# Parameters Random Forest: n_estimators=1000, max_features=5, random_state=0, max_depth=6"
   ]
  }
 ],
 "metadata": {
  "kernelspec": {
   "display_name": "Python 3",
   "language": "python",
   "name": "python3"
  },
  "language_info": {
   "codemirror_mode": {
    "name": "ipython",
    "version": 3
   },
   "file_extension": ".py",
   "mimetype": "text/x-python",
   "name": "python",
   "nbconvert_exporter": "python",
   "pygments_lexer": "ipython3",
   "version": "3.6.3"
  }
 },
 "nbformat": 4,
 "nbformat_minor": 1
}
